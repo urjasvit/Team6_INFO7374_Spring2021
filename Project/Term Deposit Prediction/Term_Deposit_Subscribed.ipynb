{
  "nbformat": 4,
  "nbformat_minor": 0,
  "metadata": {
    "kernelspec": {
      "display_name": "Python 3",
      "language": "python",
      "name": "python3"
    },
    "language_info": {
      "codemirror_mode": {
        "name": "ipython",
        "version": 3
      },
      "file_extension": ".py",
      "mimetype": "text/x-python",
      "name": "python",
      "nbconvert_exporter": "python",
      "pygments_lexer": "ipython3",
      "version": "3.6.1"
    },
    "colab": {
      "name": "Term_Deposit_Subscribed.ipynb",
      "provenance": [],
      "collapsed_sections": [
        "yMwbQzZDNC-L",
        "ZidQgScuNC-M",
        "-qONqeT-NC-O",
        "pB0NhnHTNC-P",
        "Mzd61-VFNC-S",
        "EUm6VFOvNC-V",
        "Zh9tMJu8NC-W"
      ],
      "toc_visible": true
    }
  },
  "cells": [
    {
      "cell_type": "code",
      "metadata": {
        "id": "B3wD3letNYQ-",
        "colab": {
          "base_uri": "https://localhost:8080/"
        },
        "outputId": "90f137cc-bace-44ea-91fc-f6d08315254f"
      },
      "source": [
        "pip install sklearn"
      ],
      "execution_count": null,
      "outputs": [
        {
          "output_type": "stream",
          "text": [
            "Requirement already satisfied: sklearn in /usr/local/lib/python3.7/dist-packages (0.0)\n",
            "Requirement already satisfied: scikit-learn in /usr/local/lib/python3.7/dist-packages (from sklearn) (0.22.2.post1)\n",
            "Requirement already satisfied: joblib>=0.11 in /usr/local/lib/python3.7/dist-packages (from scikit-learn->sklearn) (1.0.1)\n",
            "Requirement already satisfied: numpy>=1.11.0 in /usr/local/lib/python3.7/dist-packages (from scikit-learn->sklearn) (1.19.5)\n",
            "Requirement already satisfied: scipy>=0.17.0 in /usr/local/lib/python3.7/dist-packages (from scikit-learn->sklearn) (1.4.1)\n"
          ],
          "name": "stdout"
        }
      ]
    },
    {
      "cell_type": "code",
      "metadata": {
        "id": "HSaUENa9NC9U"
      },
      "source": [
        "import pandas as pd\n",
        "import numpy as np\n",
        "from sklearn import preprocessing\n",
        "import matplotlib.pyplot as plt \n",
        "plt.rc(\"font\", size=14)\n",
        "from sklearn.linear_model import LogisticRegression\n",
        "import seaborn as sns\n",
        "sns.set(style=\"white\")\n",
        "sns.set(style=\"whitegrid\", color_codes=True)"
      ],
      "execution_count": null,
      "outputs": []
    },
    {
      "cell_type": "code",
      "metadata": {
        "id": "3XlTfkLtNqnQ",
        "colab": {
          "base_uri": "https://localhost:8080/"
        },
        "outputId": "d0cc1ce6-9590-4dce-a468-895e3b10ad09"
      },
      "source": [
        "from google.colab import drive\n",
        "drive.mount('/content/drive')"
      ],
      "execution_count": null,
      "outputs": [
        {
          "output_type": "stream",
          "text": [
            "Mounted at /content/drive\n"
          ],
          "name": "stdout"
        }
      ]
    },
    {
      "cell_type": "markdown",
      "metadata": {
        "id": "C8hvij0uNC9i"
      },
      "source": [
        "## Data\n",
        "\n",
        "The data is related with direct marketing campaigns (phone calls) of a banking institution. The classification goal is to predict if the client will subscribe (1/0) a term deposit (variable y)."
      ]
    },
    {
      "cell_type": "code",
      "metadata": {
        "id": "acRXfG0RNC9k",
        "colab": {
          "base_uri": "https://localhost:8080/"
        },
        "outputId": "b348e1f4-2f6a-4680-8ca5-fa474c4fa5a8"
      },
      "source": [
        "data=pd.read_csv(\"/content/drive/MyDrive/Colab Notebooks/dataset/output/data.csv\")\n",
        "print(data.shape)\n",
        "print(list(data.columns))"
      ],
      "execution_count": null,
      "outputs": [
        {
          "output_type": "stream",
          "text": [
            "(31647, 19)\n",
            "['id', 'customer_age', 'job_type', 'marital', 'education', 'default', 'balance', 'housing_loan', 'personal_loan', 'communication_type', 'day_of_month', 'month', 'last_contact_duration', 'num_contacts_in_campaign', 'days_since_prev_campaign_contact', 'num_contacts_prev_campaign', 'prev_campaign_outcome', 'term_deposit_subscribed', 'spending_score']\n"
          ],
          "name": "stdout"
        }
      ]
    },
    {
      "cell_type": "code",
      "metadata": {
        "id": "7BoLqZ11NC9l",
        "colab": {
          "base_uri": "https://localhost:8080/",
          "height": 226
        },
        "outputId": "20960060-4c63-418b-cf9a-ad3f61445b01"
      },
      "source": [
        "train = data\n",
        "data.head()"
      ],
      "execution_count": null,
      "outputs": [
        {
          "output_type": "execute_result",
          "data": {
            "text/html": [
              "<div>\n",
              "<style scoped>\n",
              "    .dataframe tbody tr th:only-of-type {\n",
              "        vertical-align: middle;\n",
              "    }\n",
              "\n",
              "    .dataframe tbody tr th {\n",
              "        vertical-align: top;\n",
              "    }\n",
              "\n",
              "    .dataframe thead th {\n",
              "        text-align: right;\n",
              "    }\n",
              "</style>\n",
              "<table border=\"1\" class=\"dataframe\">\n",
              "  <thead>\n",
              "    <tr style=\"text-align: right;\">\n",
              "      <th></th>\n",
              "      <th>id</th>\n",
              "      <th>customer_age</th>\n",
              "      <th>job_type</th>\n",
              "      <th>marital</th>\n",
              "      <th>education</th>\n",
              "      <th>default</th>\n",
              "      <th>balance</th>\n",
              "      <th>housing_loan</th>\n",
              "      <th>personal_loan</th>\n",
              "      <th>communication_type</th>\n",
              "      <th>day_of_month</th>\n",
              "      <th>month</th>\n",
              "      <th>last_contact_duration</th>\n",
              "      <th>num_contacts_in_campaign</th>\n",
              "      <th>days_since_prev_campaign_contact</th>\n",
              "      <th>num_contacts_prev_campaign</th>\n",
              "      <th>prev_campaign_outcome</th>\n",
              "      <th>term_deposit_subscribed</th>\n",
              "      <th>spending_score</th>\n",
              "    </tr>\n",
              "  </thead>\n",
              "  <tbody>\n",
              "    <tr>\n",
              "      <th>0</th>\n",
              "      <td>id_43823</td>\n",
              "      <td>28.0</td>\n",
              "      <td>management</td>\n",
              "      <td>single</td>\n",
              "      <td>tertiary</td>\n",
              "      <td>no</td>\n",
              "      <td>285.0</td>\n",
              "      <td>yes</td>\n",
              "      <td>no</td>\n",
              "      <td>email</td>\n",
              "      <td>26</td>\n",
              "      <td>jun</td>\n",
              "      <td>303.0</td>\n",
              "      <td>4.0</td>\n",
              "      <td>0.0</td>\n",
              "      <td>0</td>\n",
              "      <td>unknown</td>\n",
              "      <td>0</td>\n",
              "      <td>17</td>\n",
              "    </tr>\n",
              "    <tr>\n",
              "      <th>1</th>\n",
              "      <td>id_32289</td>\n",
              "      <td>34.0</td>\n",
              "      <td>blue-collar</td>\n",
              "      <td>married</td>\n",
              "      <td>secondary</td>\n",
              "      <td>no</td>\n",
              "      <td>934.0</td>\n",
              "      <td>no</td>\n",
              "      <td>yes</td>\n",
              "      <td>cellular</td>\n",
              "      <td>18</td>\n",
              "      <td>nov</td>\n",
              "      <td>143.0</td>\n",
              "      <td>2.0</td>\n",
              "      <td>132.0</td>\n",
              "      <td>1</td>\n",
              "      <td>other</td>\n",
              "      <td>0</td>\n",
              "      <td>70</td>\n",
              "    </tr>\n",
              "    <tr>\n",
              "      <th>2</th>\n",
              "      <td>id_10523</td>\n",
              "      <td>46.0</td>\n",
              "      <td>technician</td>\n",
              "      <td>married</td>\n",
              "      <td>secondary</td>\n",
              "      <td>no</td>\n",
              "      <td>656.0</td>\n",
              "      <td>no</td>\n",
              "      <td>no</td>\n",
              "      <td>cellular</td>\n",
              "      <td>5</td>\n",
              "      <td>feb</td>\n",
              "      <td>101.0</td>\n",
              "      <td>4.0</td>\n",
              "      <td>0.0</td>\n",
              "      <td>0</td>\n",
              "      <td>unknown</td>\n",
              "      <td>0</td>\n",
              "      <td>65</td>\n",
              "    </tr>\n",
              "    <tr>\n",
              "      <th>3</th>\n",
              "      <td>id_43951</td>\n",
              "      <td>34.0</td>\n",
              "      <td>services</td>\n",
              "      <td>single</td>\n",
              "      <td>secondary</td>\n",
              "      <td>no</td>\n",
              "      <td>2.0</td>\n",
              "      <td>yes</td>\n",
              "      <td>no</td>\n",
              "      <td>email</td>\n",
              "      <td>20</td>\n",
              "      <td>may</td>\n",
              "      <td>127.0</td>\n",
              "      <td>3.0</td>\n",
              "      <td>0.0</td>\n",
              "      <td>0</td>\n",
              "      <td>unknown</td>\n",
              "      <td>0</td>\n",
              "      <td>49</td>\n",
              "    </tr>\n",
              "    <tr>\n",
              "      <th>4</th>\n",
              "      <td>id_40992</td>\n",
              "      <td>41.0</td>\n",
              "      <td>blue-collar</td>\n",
              "      <td>married</td>\n",
              "      <td>primary</td>\n",
              "      <td>no</td>\n",
              "      <td>1352.0</td>\n",
              "      <td>yes</td>\n",
              "      <td>no</td>\n",
              "      <td>cellular</td>\n",
              "      <td>13</td>\n",
              "      <td>may</td>\n",
              "      <td>49.0</td>\n",
              "      <td>2.0</td>\n",
              "      <td>0.0</td>\n",
              "      <td>0</td>\n",
              "      <td>unknown</td>\n",
              "      <td>0</td>\n",
              "      <td>70</td>\n",
              "    </tr>\n",
              "  </tbody>\n",
              "</table>\n",
              "</div>"
            ],
            "text/plain": [
              "         id  customer_age  ... term_deposit_subscribed spending_score\n",
              "0  id_43823          28.0  ...                       0             17\n",
              "1  id_32289          34.0  ...                       0             70\n",
              "2  id_10523          46.0  ...                       0             65\n",
              "3  id_43951          34.0  ...                       0             49\n",
              "4  id_40992          41.0  ...                       0             70\n",
              "\n",
              "[5 rows x 19 columns]"
            ]
          },
          "metadata": {
            "tags": []
          },
          "execution_count": 5
        }
      ]
    },
    {
      "cell_type": "markdown",
      "metadata": {
        "id": "dp4c330HNC9m"
      },
      "source": [
        "#### Input variables"
      ]
    },
    {
      "cell_type": "markdown",
      "metadata": {
        "id": "5dX9e-YdNC9n"
      },
      "source": [
        "id                                  \n",
        "customer_age                        \n",
        "job_type                            \n",
        "marital                             \n",
        "education                           \n",
        "default                             \n",
        "balance                             \n",
        "housing_loan                        \n",
        "personal_loan                       \n",
        "communication_type                  \n",
        "day_of_month                        \n",
        "month                               \n",
        "last_contact_duration               \n",
        "num_contacts_in_campaign            \n",
        "days_since_prev_campaign_contact    \n",
        "num_contacts_prev_campaign          \n",
        "prev_campaign_outcome               \n",
        "spending_score                      "
      ]
    },
    {
      "cell_type": "markdown",
      "metadata": {
        "id": "2J_06xNgNC9p"
      },
      "source": [
        "#### Predictor variable (desired target):\n",
        "\n",
        "y - has the client subscribed a term deposit? (binary: '1','0')"
      ]
    },
    {
      "cell_type": "code",
      "metadata": {
        "id": "OnD7cGbpNC9r",
        "colab": {
          "base_uri": "https://localhost:8080/"
        },
        "outputId": "b72c8c81-da8e-41b2-c6e1-a75edcc27c68"
      },
      "source": [
        "data['education'].unique()"
      ],
      "execution_count": null,
      "outputs": [
        {
          "output_type": "execute_result",
          "data": {
            "text/plain": [
              "array(['tertiary', 'secondary', 'primary', 'unknown'], dtype=object)"
            ]
          },
          "metadata": {
            "tags": []
          },
          "execution_count": 6
        }
      ]
    },
    {
      "cell_type": "markdown",
      "metadata": {
        "id": "yxP9zuR1NC9z"
      },
      "source": [
        "### Data exploration"
      ]
    },
    {
      "cell_type": "code",
      "metadata": {
        "id": "3QMml46vNC90",
        "colab": {
          "base_uri": "https://localhost:8080/"
        },
        "outputId": "b812bc3b-1d7c-45e4-c16a-b6f1e08edfef"
      },
      "source": [
        "data['term_deposit_subscribed'].value_counts()"
      ],
      "execution_count": null,
      "outputs": [
        {
          "output_type": "execute_result",
          "data": {
            "text/plain": [
              "0    28253\n",
              "1     3394\n",
              "Name: term_deposit_subscribed, dtype: int64"
            ]
          },
          "metadata": {
            "tags": []
          },
          "execution_count": 7
        }
      ]
    },
    {
      "cell_type": "code",
      "metadata": {
        "id": "IUJijzeoNC90",
        "colab": {
          "base_uri": "https://localhost:8080/",
          "height": 303
        },
        "outputId": "eea811cc-ace4-4d7d-c0c6-6382e77a7d77"
      },
      "source": [
        "sns.countplot(x='term_deposit_subscribed',data=data, palette='hls')\n",
        "plt.show()\n",
        "plt.savefig('count_plot')"
      ],
      "execution_count": null,
      "outputs": [
        {
          "output_type": "display_data",
          "data": {
            "image/png": "[encoded data removed]",
            "text/plain": [
              "<Figure size 432x288 with 1 Axes>"
            ]
          },
          "metadata": {
            "tags": []
          }
        },
        {
          "output_type": "display_data",
          "data": {
            "text/plain": [
              "<Figure size 432x288 with 0 Axes>"
            ]
          },
          "metadata": {
            "tags": []
          }
        }
      ]
    },
    {
      "cell_type": "markdown",
      "metadata": {
        "id": "S_ge3QItNC91"
      },
      "source": [
        "There are 28253 no's and 3394 yes's in the outcome variables."
      ]
    },
    {
      "cell_type": "markdown",
      "metadata": {
        "id": "cE7dLKYGNC92"
      },
      "source": [
        "Let's get a sense of the numbers across the two classes"
      ]
    },
    {
      "cell_type": "code",
      "metadata": {
        "id": "xFEXPOetNC92",
        "colab": {
          "base_uri": "https://localhost:8080/",
          "height": 163
        },
        "outputId": "1e3956dc-5408-4bfb-ef00-d93113a0b7a5"
      },
      "source": [
        "data.groupby('term_deposit_subscribed').mean()"
      ],
      "execution_count": null,
      "outputs": [
        {
          "output_type": "execute_result",
          "data": {
            "text/html": [
              "<div>\n",
              "<style scoped>\n",
              "    .dataframe tbody tr th:only-of-type {\n",
              "        vertical-align: middle;\n",
              "    }\n",
              "\n",
              "    .dataframe tbody tr th {\n",
              "        vertical-align: top;\n",
              "    }\n",
              "\n",
              "    .dataframe thead th {\n",
              "        text-align: right;\n",
              "    }\n",
              "</style>\n",
              "<table border=\"1\" class=\"dataframe\">\n",
              "  <thead>\n",
              "    <tr style=\"text-align: right;\">\n",
              "      <th></th>\n",
              "      <th>customer_age</th>\n",
              "      <th>balance</th>\n",
              "      <th>day_of_month</th>\n",
              "      <th>last_contact_duration</th>\n",
              "      <th>num_contacts_in_campaign</th>\n",
              "      <th>days_since_prev_campaign_contact</th>\n",
              "      <th>num_contacts_prev_campaign</th>\n",
              "      <th>spending_score</th>\n",
              "    </tr>\n",
              "    <tr>\n",
              "      <th>term_deposit_subscribed</th>\n",
              "      <th></th>\n",
              "      <th></th>\n",
              "      <th></th>\n",
              "      <th></th>\n",
              "      <th></th>\n",
              "      <th></th>\n",
              "      <th></th>\n",
              "      <th></th>\n",
              "    </tr>\n",
              "  </thead>\n",
              "  <tbody>\n",
              "    <tr>\n",
              "      <th>0</th>\n",
              "      <td>39.522104</td>\n",
              "      <td>1295.439387</td>\n",
              "      <td>15.896153</td>\n",
              "      <td>217.011008</td>\n",
              "      <td>2.843946</td>\n",
              "      <td>37.644356</td>\n",
              "      <td>0.513751</td>\n",
              "      <td>53.309949</td>\n",
              "    </tr>\n",
              "    <tr>\n",
              "      <th>1</th>\n",
              "      <td>40.698291</td>\n",
              "      <td>1812.237478</td>\n",
              "      <td>15.172658</td>\n",
              "      <td>558.801120</td>\n",
              "      <td>2.124632</td>\n",
              "      <td>72.187979</td>\n",
              "      <td>1.239835</td>\n",
              "      <td>53.549204</td>\n",
              "    </tr>\n",
              "  </tbody>\n",
              "</table>\n",
              "</div>"
            ],
            "text/plain": [
              "                         customer_age  ...  spending_score\n",
              "term_deposit_subscribed                ...                \n",
              "0                           39.522104  ...       53.309949\n",
              "1                           40.698291  ...       53.549204\n",
              "\n",
              "[2 rows x 8 columns]"
            ]
          },
          "metadata": {
            "tags": []
          },
          "execution_count": 9
        }
      ]
    },
    {
      "cell_type": "markdown",
      "metadata": {
        "id": "vl2kAMLpNC92"
      },
      "source": [
        "Observations:\n",
        "\n",
        "The average age of customers who bought the term deposit is higher than that of the customers who didn't.\n",
        "The balance is understandably higher for the customers who bought it than the customers who did not. The last_contact_duration is considerably higher for the customer subscribing to the Term Deposit meaning that the better the chances of a sale.\n",
        "\n",
        "Surprisingly, num_contacts_in_campaign (number of contacts or calls made during the current campaign) are lower for customers who bought the term deposit. But, one thing should also be noted that num_contacts_prev_campaign is higher meaning that the contacts made during previous campaign might have changed their mind towards the current campaign."
      ]
    },
    {
      "cell_type": "markdown",
      "metadata": {
        "id": "UjQmxlOWNC92"
      },
      "source": [
        "We can calculate categorical means for other categorical variables such as education and marital status to get a more detailed sense of our data."
      ]
    },
    {
      "cell_type": "code",
      "metadata": {
        "id": "YLoxD5_mNC92",
        "colab": {
          "base_uri": "https://localhost:8080/",
          "height": 494
        },
        "outputId": "20035ad4-353c-4a93-b4f4-de6c50963d62"
      },
      "source": [
        "data.groupby('job_type').mean()"
      ],
      "execution_count": null,
      "outputs": [
        {
          "output_type": "execute_result",
          "data": {
            "text/html": [
              "<div>\n",
              "<style scoped>\n",
              "    .dataframe tbody tr th:only-of-type {\n",
              "        vertical-align: middle;\n",
              "    }\n",
              "\n",
              "    .dataframe tbody tr th {\n",
              "        vertical-align: top;\n",
              "    }\n",
              "\n",
              "    .dataframe thead th {\n",
              "        text-align: right;\n",
              "    }\n",
              "</style>\n",
              "<table border=\"1\" class=\"dataframe\">\n",
              "  <thead>\n",
              "    <tr style=\"text-align: right;\">\n",
              "      <th></th>\n",
              "      <th>customer_age</th>\n",
              "      <th>balance</th>\n",
              "      <th>day_of_month</th>\n",
              "      <th>last_contact_duration</th>\n",
              "      <th>num_contacts_in_campaign</th>\n",
              "      <th>days_since_prev_campaign_contact</th>\n",
              "      <th>num_contacts_prev_campaign</th>\n",
              "      <th>term_deposit_subscribed</th>\n",
              "      <th>spending_score</th>\n",
              "    </tr>\n",
              "    <tr>\n",
              "      <th>job_type</th>\n",
              "      <th></th>\n",
              "      <th></th>\n",
              "      <th></th>\n",
              "      <th></th>\n",
              "      <th></th>\n",
              "      <th></th>\n",
              "      <th></th>\n",
              "      <th></th>\n",
              "      <th></th>\n",
              "    </tr>\n",
              "  </thead>\n",
              "  <tbody>\n",
              "    <tr>\n",
              "      <th>admin.</th>\n",
              "      <td>38.020403</td>\n",
              "      <td>1089.189964</td>\n",
              "      <td>15.591398</td>\n",
              "      <td>241.205955</td>\n",
              "      <td>2.575682</td>\n",
              "      <td>49.400882</td>\n",
              "      <td>0.704163</td>\n",
              "      <td>0.104770</td>\n",
              "      <td>53.379377</td>\n",
              "    </tr>\n",
              "    <tr>\n",
              "      <th>blue-collar</th>\n",
              "      <td>38.789759</td>\n",
              "      <td>1066.003961</td>\n",
              "      <td>15.475499</td>\n",
              "      <td>259.503668</td>\n",
              "      <td>2.805018</td>\n",
              "      <td>45.065581</td>\n",
              "      <td>0.504842</td>\n",
              "      <td>0.066461</td>\n",
              "      <td>52.895833</td>\n",
              "    </tr>\n",
              "    <tr>\n",
              "      <th>entrepreneur</th>\n",
              "      <td>40.724204</td>\n",
              "      <td>1611.806172</td>\n",
              "      <td>15.702025</td>\n",
              "      <td>252.133076</td>\n",
              "      <td>2.846673</td>\n",
              "      <td>29.668274</td>\n",
              "      <td>0.431051</td>\n",
              "      <td>0.073288</td>\n",
              "      <td>52.972999</td>\n",
              "    </tr>\n",
              "    <tr>\n",
              "      <th>housemaid</th>\n",
              "      <td>44.884658</td>\n",
              "      <td>1406.165733</td>\n",
              "      <td>16.122060</td>\n",
              "      <td>236.864502</td>\n",
              "      <td>2.799552</td>\n",
              "      <td>25.395297</td>\n",
              "      <td>0.412094</td>\n",
              "      <td>0.081747</td>\n",
              "      <td>54.892497</td>\n",
              "    </tr>\n",
              "    <tr>\n",
              "      <th>management</th>\n",
              "      <td>39.085359</td>\n",
              "      <td>1771.249775</td>\n",
              "      <td>16.123612</td>\n",
              "      <td>246.452295</td>\n",
              "      <td>2.861236</td>\n",
              "      <td>39.551455</td>\n",
              "      <td>0.677918</td>\n",
              "      <td>0.126763</td>\n",
              "      <td>53.343834</td>\n",
              "    </tr>\n",
              "    <tr>\n",
              "      <th>retired</th>\n",
              "      <td>60.105594</td>\n",
              "      <td>1969.561282</td>\n",
              "      <td>15.342552</td>\n",
              "      <td>277.648020</td>\n",
              "      <td>2.366436</td>\n",
              "      <td>38.653048</td>\n",
              "      <td>0.656820</td>\n",
              "      <td>0.216845</td>\n",
              "      <td>53.100566</td>\n",
              "    </tr>\n",
              "    <tr>\n",
              "      <th>self-employed</th>\n",
              "      <td>39.261926</td>\n",
              "      <td>1666.382538</td>\n",
              "      <td>16.323132</td>\n",
              "      <td>272.571557</td>\n",
              "      <td>2.896490</td>\n",
              "      <td>38.094509</td>\n",
              "      <td>0.562556</td>\n",
              "      <td>0.117012</td>\n",
              "      <td>54.224122</td>\n",
              "    </tr>\n",
              "    <tr>\n",
              "      <th>services</th>\n",
              "      <td>37.574410</td>\n",
              "      <td>997.332193</td>\n",
              "      <td>15.572015</td>\n",
              "      <td>254.550804</td>\n",
              "      <td>2.748888</td>\n",
              "      <td>44.076291</td>\n",
              "      <td>0.519672</td>\n",
              "      <td>0.079028</td>\n",
              "      <td>53.631885</td>\n",
              "    </tr>\n",
              "    <tr>\n",
              "      <th>student</th>\n",
              "      <td>25.523379</td>\n",
              "      <td>1375.101056</td>\n",
              "      <td>15.067873</td>\n",
              "      <td>242.051282</td>\n",
              "      <td>2.286576</td>\n",
              "      <td>60.911011</td>\n",
              "      <td>0.975867</td>\n",
              "      <td>0.269985</td>\n",
              "      <td>51.707391</td>\n",
              "    </tr>\n",
              "    <tr>\n",
              "      <th>technician</th>\n",
              "      <td>38.114943</td>\n",
              "      <td>1217.534866</td>\n",
              "      <td>16.423563</td>\n",
              "      <td>250.934100</td>\n",
              "      <td>2.922414</td>\n",
              "      <td>37.141379</td>\n",
              "      <td>0.588314</td>\n",
              "      <td>0.099425</td>\n",
              "      <td>53.586207</td>\n",
              "    </tr>\n",
              "    <tr>\n",
              "      <th>unemployed</th>\n",
              "      <td>39.530522</td>\n",
              "      <td>1457.233074</td>\n",
              "      <td>15.248613</td>\n",
              "      <td>289.096559</td>\n",
              "      <td>2.350721</td>\n",
              "      <td>38.045505</td>\n",
              "      <td>0.480577</td>\n",
              "      <td>0.153163</td>\n",
              "      <td>53.669256</td>\n",
              "    </tr>\n",
              "    <tr>\n",
              "      <th>unknown</th>\n",
              "      <td>45.346734</td>\n",
              "      <td>1606.994975</td>\n",
              "      <td>14.557789</td>\n",
              "      <td>245.577889</td>\n",
              "      <td>3.356784</td>\n",
              "      <td>19.788945</td>\n",
              "      <td>0.271357</td>\n",
              "      <td>0.125628</td>\n",
              "      <td>52.135678</td>\n",
              "    </tr>\n",
              "  </tbody>\n",
              "</table>\n",
              "</div>"
            ],
            "text/plain": [
              "               customer_age  ...  spending_score\n",
              "job_type                     ...                \n",
              "admin.            38.020403  ...       53.379377\n",
              "blue-collar       38.789759  ...       52.895833\n",
              "entrepreneur      40.724204  ...       52.972999\n",
              "housemaid         44.884658  ...       54.892497\n",
              "management        39.085359  ...       53.343834\n",
              "retired           60.105594  ...       53.100566\n",
              "self-employed     39.261926  ...       54.224122\n",
              "services          37.574410  ...       53.631885\n",
              "student           25.523379  ...       51.707391\n",
              "technician        38.114943  ...       53.586207\n",
              "unemployed        39.530522  ...       53.669256\n",
              "unknown           45.346734  ...       52.135678\n",
              "\n",
              "[12 rows x 9 columns]"
            ]
          },
          "metadata": {
            "tags": []
          },
          "execution_count": 10
        }
      ]
    },
    {
      "cell_type": "code",
      "metadata": {
        "id": "f7594cfyNC92",
        "colab": {
          "base_uri": "https://localhost:8080/",
          "height": 226
        },
        "outputId": "630c3cb3-5a30-4aca-f71f-1bc4c5b06da1"
      },
      "source": [
        "data.groupby('marital').mean()"
      ],
      "execution_count": null,
      "outputs": [
        {
          "output_type": "execute_result",
          "data": {
            "text/html": [
              "<div>\n",
              "<style scoped>\n",
              "    .dataframe tbody tr th:only-of-type {\n",
              "        vertical-align: middle;\n",
              "    }\n",
              "\n",
              "    .dataframe tbody tr th {\n",
              "        vertical-align: top;\n",
              "    }\n",
              "\n",
              "    .dataframe thead th {\n",
              "        text-align: right;\n",
              "    }\n",
              "</style>\n",
              "<table border=\"1\" class=\"dataframe\">\n",
              "  <thead>\n",
              "    <tr style=\"text-align: right;\">\n",
              "      <th></th>\n",
              "      <th>customer_age</th>\n",
              "      <th>balance</th>\n",
              "      <th>day_of_month</th>\n",
              "      <th>last_contact_duration</th>\n",
              "      <th>num_contacts_in_campaign</th>\n",
              "      <th>days_since_prev_campaign_contact</th>\n",
              "      <th>num_contacts_prev_campaign</th>\n",
              "      <th>term_deposit_subscribed</th>\n",
              "      <th>spending_score</th>\n",
              "    </tr>\n",
              "    <tr>\n",
              "      <th>marital</th>\n",
              "      <th></th>\n",
              "      <th></th>\n",
              "      <th></th>\n",
              "      <th></th>\n",
              "      <th></th>\n",
              "      <th></th>\n",
              "      <th></th>\n",
              "      <th></th>\n",
              "      <th></th>\n",
              "    </tr>\n",
              "  </thead>\n",
              "  <tbody>\n",
              "    <tr>\n",
              "      <th>divorced</th>\n",
              "      <td>44.544249</td>\n",
              "      <td>1210.461705</td>\n",
              "      <td>15.705548</td>\n",
              "      <td>258.959675</td>\n",
              "      <td>2.644384</td>\n",
              "      <td>41.654668</td>\n",
              "      <td>0.538566</td>\n",
              "      <td>0.106089</td>\n",
              "      <td>54.011908</td>\n",
              "    </tr>\n",
              "    <tr>\n",
              "      <th>married</th>\n",
              "      <td>42.014938</td>\n",
              "      <td>1412.153919</td>\n",
              "      <td>15.899076</td>\n",
              "      <td>249.504249</td>\n",
              "      <td>2.835524</td>\n",
              "      <td>38.774452</td>\n",
              "      <td>0.573291</td>\n",
              "      <td>0.093059</td>\n",
              "      <td>53.268092</td>\n",
              "    </tr>\n",
              "    <tr>\n",
              "      <th>single</th>\n",
              "      <td>32.549057</td>\n",
              "      <td>1277.007903</td>\n",
              "      <td>15.692221</td>\n",
              "      <td>260.987806</td>\n",
              "      <td>2.669979</td>\n",
              "      <td>46.679350</td>\n",
              "      <td>0.653156</td>\n",
              "      <td>0.138534</td>\n",
              "      <td>53.139325</td>\n",
              "    </tr>\n",
              "    <tr>\n",
              "      <th>unknown</th>\n",
              "      <td>39.313333</td>\n",
              "      <td>1429.413333</td>\n",
              "      <td>15.893333</td>\n",
              "      <td>216.666667</td>\n",
              "      <td>2.820000</td>\n",
              "      <td>44.246667</td>\n",
              "      <td>0.580000</td>\n",
              "      <td>0.080000</td>\n",
              "      <td>56.793333</td>\n",
              "    </tr>\n",
              "  </tbody>\n",
              "</table>\n",
              "</div>"
            ],
            "text/plain": [
              "          customer_age      balance  ...  term_deposit_subscribed  spending_score\n",
              "marital                              ...                                         \n",
              "divorced     44.544249  1210.461705  ...                 0.106089       54.011908\n",
              "married      42.014938  1412.153919  ...                 0.093059       53.268092\n",
              "single       32.549057  1277.007903  ...                 0.138534       53.139325\n",
              "unknown      39.313333  1429.413333  ...                 0.080000       56.793333\n",
              "\n",
              "[4 rows x 9 columns]"
            ]
          },
          "metadata": {
            "tags": []
          },
          "execution_count": 11
        }
      ]
    },
    {
      "cell_type": "code",
      "metadata": {
        "id": "gq0RKq8zNC94",
        "colab": {
          "base_uri": "https://localhost:8080/",
          "height": 226
        },
        "outputId": "8f253202-9d17-4b3d-9c8b-5b43ee0096d2"
      },
      "source": [
        "data.groupby('education').mean()"
      ],
      "execution_count": null,
      "outputs": [
        {
          "output_type": "execute_result",
          "data": {
            "text/html": [
              "<div>\n",
              "<style scoped>\n",
              "    .dataframe tbody tr th:only-of-type {\n",
              "        vertical-align: middle;\n",
              "    }\n",
              "\n",
              "    .dataframe tbody tr th {\n",
              "        vertical-align: top;\n",
              "    }\n",
              "\n",
              "    .dataframe thead th {\n",
              "        text-align: right;\n",
              "    }\n",
              "</style>\n",
              "<table border=\"1\" class=\"dataframe\">\n",
              "  <thead>\n",
              "    <tr style=\"text-align: right;\">\n",
              "      <th></th>\n",
              "      <th>customer_age</th>\n",
              "      <th>balance</th>\n",
              "      <th>day_of_month</th>\n",
              "      <th>last_contact_duration</th>\n",
              "      <th>num_contacts_in_campaign</th>\n",
              "      <th>days_since_prev_campaign_contact</th>\n",
              "      <th>num_contacts_prev_campaign</th>\n",
              "      <th>term_deposit_subscribed</th>\n",
              "      <th>spending_score</th>\n",
              "    </tr>\n",
              "    <tr>\n",
              "      <th>education</th>\n",
              "      <th></th>\n",
              "      <th></th>\n",
              "      <th></th>\n",
              "      <th></th>\n",
              "      <th></th>\n",
              "      <th></th>\n",
              "      <th></th>\n",
              "      <th></th>\n",
              "      <th></th>\n",
              "    </tr>\n",
              "  </thead>\n",
              "  <tbody>\n",
              "    <tr>\n",
              "      <th>primary</th>\n",
              "      <td>44.320033</td>\n",
              "      <td>1250.701692</td>\n",
              "      <td>15.388552</td>\n",
              "      <td>253.173804</td>\n",
              "      <td>2.825778</td>\n",
              "      <td>37.360769</td>\n",
              "      <td>0.492375</td>\n",
              "      <td>0.081053</td>\n",
              "      <td>53.310633</td>\n",
              "    </tr>\n",
              "    <tr>\n",
              "      <th>secondary</th>\n",
              "      <td>38.784453</td>\n",
              "      <td>1138.999138</td>\n",
              "      <td>15.838493</td>\n",
              "      <td>253.731089</td>\n",
              "      <td>2.705238</td>\n",
              "      <td>43.427956</td>\n",
              "      <td>0.579307</td>\n",
              "      <td>0.094848</td>\n",
              "      <td>53.177325</td>\n",
              "    </tr>\n",
              "    <tr>\n",
              "      <th>tertiary</th>\n",
              "      <td>38.244502</td>\n",
              "      <td>1749.481601</td>\n",
              "      <td>16.029718</td>\n",
              "      <td>253.593713</td>\n",
              "      <td>2.833923</td>\n",
              "      <td>40.475807</td>\n",
              "      <td>0.680506</td>\n",
              "      <td>0.139577</td>\n",
              "      <td>53.597146</td>\n",
              "    </tr>\n",
              "    <tr>\n",
              "      <th>unknown</th>\n",
              "      <td>43.328173</td>\n",
              "      <td>1510.400155</td>\n",
              "      <td>15.637771</td>\n",
              "      <td>255.204334</td>\n",
              "      <td>2.838235</td>\n",
              "      <td>36.282508</td>\n",
              "      <td>0.472910</td>\n",
              "      <td>0.126935</td>\n",
              "      <td>53.531734</td>\n",
              "    </tr>\n",
              "  </tbody>\n",
              "</table>\n",
              "</div>"
            ],
            "text/plain": [
              "           customer_age      balance  ...  term_deposit_subscribed  spending_score\n",
              "education                             ...                                         \n",
              "primary       44.320033  1250.701692  ...                 0.081053       53.310633\n",
              "secondary     38.784453  1138.999138  ...                 0.094848       53.177325\n",
              "tertiary      38.244502  1749.481601  ...                 0.139577       53.597146\n",
              "unknown       43.328173  1510.400155  ...                 0.126935       53.531734\n",
              "\n",
              "[4 rows x 9 columns]"
            ]
          },
          "metadata": {
            "tags": []
          },
          "execution_count": 12
        }
      ]
    },
    {
      "cell_type": "markdown",
      "metadata": {
        "id": "3Xipk1TNNC95"
      },
      "source": [
        "Visualizations"
      ]
    },
    {
      "cell_type": "code",
      "metadata": {
        "id": "cGDBu2ftNC95",
        "colab": {
          "base_uri": "https://localhost:8080/",
          "height": 369
        },
        "outputId": "f24ab82b-c62b-42e6-8a1b-4732cc8102bf"
      },
      "source": [
        "%matplotlib inline\n",
        "pd.crosstab(data.job_type,data.term_deposit_subscribed).plot(kind='bar')\n",
        "plt.title('Purchase Frequency for Job Title')\n",
        "plt.xlabel('Job')\n",
        "plt.ylabel('Frequency of Purchase')\n",
        "plt.savefig('purchase_fre_job')"
      ],
      "execution_count": null,
      "outputs": [
        {
          "output_type": "display_data",
          "data": {
            "image/png": "[encoded data removed]",
            "text/plain": [
              "<Figure size 432x288 with 1 Axes>"
            ]
          },
          "metadata": {
            "tags": [],
            "needs_background": "light"
          }
        }
      ]
    },
    {
      "cell_type": "markdown",
      "metadata": {
        "id": "KFGO9lluNC95"
      },
      "source": [
        "The frequency of purchase of the deposit depends a great deal on the job title. Thus, the job title can be a good predictor of the outcome variable."
      ]
    },
    {
      "cell_type": "code",
      "metadata": {
        "id": "Q5uGTqSTNC96",
        "colab": {
          "base_uri": "https://localhost:8080/",
          "height": 341
        },
        "outputId": "3539650a-b74d-4f23-c840-017a318ac740"
      },
      "source": [
        "table=pd.crosstab(data.marital,data.term_deposit_subscribed)\n",
        "table.div(table.sum(1).astype(float), axis=0).plot(kind='bar', stacked=True)\n",
        "plt.title('Stacked Bar Chart of Marital Status vs Purchase')\n",
        "plt.xlabel('Marital Status')\n",
        "plt.ylabel('Proportion of Customers')\n",
        "plt.savefig('mariral_vs_pur_stack')"
      ],
      "execution_count": null,
      "outputs": [
        {
          "output_type": "display_data",
          "data": {
            "image/png": "[encoded data removed]",
            "text/plain": [
              "<Figure size 432x288 with 1 Axes>"
            ]
          },
          "metadata": {
            "tags": [],
            "needs_background": "light"
          }
        }
      ]
    },
    {
      "cell_type": "markdown",
      "metadata": {
        "id": "RyihaRIgNC96"
      },
      "source": [
        "Hard to see, but the marital status does not seem a strong predictor for the outcome variable."
      ]
    },
    {
      "cell_type": "code",
      "metadata": {
        "id": "1pjM3aCqNC96",
        "colab": {
          "base_uri": "https://localhost:8080/",
          "height": 348
        },
        "outputId": "bd2adf74-1c1b-4e81-ba6e-a7a1816167ce"
      },
      "source": [
        "table=pd.crosstab(data.education,data.term_deposit_subscribed)\n",
        "table.div(table.sum(1).astype(float), axis=0).plot(kind='bar', stacked=True)\n",
        "plt.title('Stacked Bar Chart of Education vs Purchase')\n",
        "plt.xlabel('Education')\n",
        "plt.ylabel('Proportion of Customers')\n",
        "plt.savefig('edu_vs_pur_stack')"
      ],
      "execution_count": null,
      "outputs": [
        {
          "output_type": "display_data",
          "data": {
            "image/png": "[encoded data removed]",
            "text/plain": [
              "<Figure size 432x288 with 1 Axes>"
            ]
          },
          "metadata": {
            "tags": [],
            "needs_background": "light"
          }
        }
      ]
    },
    {
      "cell_type": "markdown",
      "metadata": {
        "id": "WLZn31TJNC97"
      },
      "source": [
        "Education seems a good predictor of the outcome variable."
      ]
    },
    {
      "cell_type": "code",
      "metadata": {
        "id": "O0PuY2PnNC97",
        "colab": {
          "base_uri": "https://localhost:8080/",
          "height": 305
        },
        "outputId": "a1da8e39-f152-4a94-aa51-4890849c08e3"
      },
      "source": [
        "pd.crosstab(data.day_of_month,data.term_deposit_subscribed).plot(kind='bar')\n",
        "plt.title('Purchase Frequency for Day of Week')\n",
        "plt.xlabel('Day of Month')\n",
        "plt.ylabel('Frequency of Purchase')\n",
        "plt.savefig('pur_dayofmonth_bar')"
      ],
      "execution_count": null,
      "outputs": [
        {
          "output_type": "display_data",
          "data": {
            "image/png": "[encoded data removed]",
            "text/plain": [
              "<Figure size 432x288 with 1 Axes>"
            ]
          },
          "metadata": {
            "tags": [],
            "needs_background": "light"
          }
        }
      ]
    },
    {
      "cell_type": "markdown",
      "metadata": {
        "id": "XuvaDVGaNC97"
      },
      "source": [
        "Day of month may not be a good predictor of the outcome"
      ]
    },
    {
      "cell_type": "code",
      "metadata": {
        "id": "-zyn8_elNC98",
        "colab": {
          "base_uri": "https://localhost:8080/",
          "height": 315
        },
        "outputId": "4dac3643-81e1-4477-83e5-0481a3198da4"
      },
      "source": [
        "pd.crosstab(data.month,data.term_deposit_subscribed).plot(kind='bar')\n",
        "plt.title('Purchase Frequency for Month')\n",
        "plt.xlabel('Month')\n",
        "plt.ylabel('Frequency of Purchase')\n",
        "plt.savefig('pur_fre_month_bar')"
      ],
      "execution_count": null,
      "outputs": [
        {
          "output_type": "display_data",
          "data": {
            "image/png": "[encoded data removed]",
            "text/plain": [
              "<Figure size 432x288 with 1 Axes>"
            ]
          },
          "metadata": {
            "tags": [],
            "needs_background": "light"
          }
        }
      ]
    },
    {
      "cell_type": "markdown",
      "metadata": {
        "id": "oi7M71WTNC98"
      },
      "source": [
        "Month might be a good predictor of the outcome variable"
      ]
    },
    {
      "cell_type": "code",
      "metadata": {
        "id": "x4udSJj1NC99",
        "colab": {
          "base_uri": "https://localhost:8080/",
          "height": 301
        },
        "outputId": "0bbfa7c2-4936-4cc1-8b3a-dae9ff1469fd"
      },
      "source": [
        "data.customer_age.hist()\n",
        "plt.title('Histogram of Age')\n",
        "plt.xlabel('Age')\n",
        "plt.ylabel('Frequency')\n",
        "plt.savefig('hist_age')"
      ],
      "execution_count": null,
      "outputs": [
        {
          "output_type": "display_data",
          "data": {
            "image/png": "[encoded data removed]",
            "text/plain": [
              "<Figure size 432x288 with 1 Axes>"
            ]
          },
          "metadata": {
            "tags": [],
            "needs_background": "light"
          }
        }
      ]
    },
    {
      "cell_type": "markdown",
      "metadata": {
        "id": "KyH3KD1wNC99"
      },
      "source": [
        "The most of the customers of the bank in this dataset are in the age range of 30-40."
      ]
    },
    {
      "cell_type": "code",
      "metadata": {
        "id": "0UG-kfSXNC99",
        "colab": {
          "base_uri": "https://localhost:8080/",
          "height": 341
        },
        "outputId": "0e4ce81a-bafd-4c83-d9cd-669376aff308"
      },
      "source": [
        "pd.crosstab(data.prev_campaign_outcome,data.term_deposit_subscribed).plot(kind='bar')\n",
        "plt.title('Purchase Frequency for Poutcome')\n",
        "plt.xlabel('Poutcome')\n",
        "plt.ylabel('Frequency of Purchase')\n",
        "plt.savefig('pur_fre_pout_bar')"
      ],
      "execution_count": null,
      "outputs": [
        {
          "output_type": "display_data",
          "data": {
            "image/png": "[encoded data removed]",
            "text/plain": [
              "<Figure size 432x288 with 1 Axes>"
            ]
          },
          "metadata": {
            "tags": [],
            "needs_background": "light"
          }
        }
      ]
    },
    {
      "cell_type": "markdown",
      "metadata": {
        "id": "FOSrroyENC-J"
      },
      "source": [
        "Prev_campaign_outcome seems to be a good predictor of the outcome variable."
      ]
    },
    {
      "cell_type": "markdown",
      "metadata": {
        "id": "G2lGtbGRNC-J"
      },
      "source": [
        "### Create dummy variables"
      ]
    },
    {
      "cell_type": "code",
      "metadata": {
        "collapsed": true,
        "id": "-bMRhHQHNC-K"
      },
      "source": [
        "cat_vars=['job_type','marital','education','default','housing_loan','personal_loan','communication_type','day_of_month','month','prev_campaign_outcome']\n",
        "for var in cat_vars:\n",
        "    cat_list='var'+'_'+var\n",
        "    cat_list = pd.get_dummies(data[var], prefix=var)\n",
        "    data1=data.join(cat_list)\n",
        "    data=data1"
      ],
      "execution_count": null,
      "outputs": []
    },
    {
      "cell_type": "code",
      "metadata": {
        "collapsed": true,
        "id": "u8_P5eFZNC-K"
      },
      "source": [
        "cat_vars=['job_type','marital','education','default','housing_loan','personal_loan','communication_type','day_of_month','month','prev_campaign_outcome']\n",
        "data_vars=data.columns.values.tolist()\n",
        "to_keep=[i for i in data_vars if i not in cat_vars]"
      ],
      "execution_count": null,
      "outputs": []
    },
    {
      "cell_type": "code",
      "metadata": {
        "id": "jJsTreX5NC-K",
        "colab": {
          "base_uri": "https://localhost:8080/"
        },
        "outputId": "0f194bdf-64fb-423e-e543-4e8dcbcde531"
      },
      "source": [
        "data_final=data[to_keep]\n",
        "data_final.columns.values"
      ],
      "execution_count": null,
      "outputs": [
        {
          "output_type": "execute_result",
          "data": {
            "text/plain": [
              "array(['id', 'customer_age', 'balance', 'last_contact_duration',\n",
              "       'num_contacts_in_campaign', 'days_since_prev_campaign_contact',\n",
              "       'num_contacts_prev_campaign', 'term_deposit_subscribed',\n",
              "       'spending_score', 'job_type_admin.', 'job_type_blue-collar',\n",
              "       'job_type_entrepreneur', 'job_type_housemaid',\n",
              "       'job_type_management', 'job_type_retired',\n",
              "       'job_type_self-employed', 'job_type_services', 'job_type_student',\n",
              "       'job_type_technician', 'job_type_unemployed', 'job_type_unknown',\n",
              "       'marital_divorced', 'marital_married', 'marital_single',\n",
              "       'marital_unknown', 'education_primary', 'education_secondary',\n",
              "       'education_tertiary', 'education_unknown', 'default_no',\n",
              "       'default_yes', 'housing_loan_no', 'housing_loan_yes',\n",
              "       'personal_loan_no', 'personal_loan_unknown', 'personal_loan_yes',\n",
              "       'communication_type_cellular', 'communication_type_email',\n",
              "       'communication_type_telephone', 'day_of_month_1', 'day_of_month_2',\n",
              "       'day_of_month_3', 'day_of_month_4', 'day_of_month_5',\n",
              "       'day_of_month_6', 'day_of_month_7', 'day_of_month_8',\n",
              "       'day_of_month_9', 'day_of_month_10', 'day_of_month_11',\n",
              "       'day_of_month_12', 'day_of_month_13', 'day_of_month_14',\n",
              "       'day_of_month_15', 'day_of_month_16', 'day_of_month_17',\n",
              "       'day_of_month_18', 'day_of_month_19', 'day_of_month_20',\n",
              "       'day_of_month_21', 'day_of_month_22', 'day_of_month_23',\n",
              "       'day_of_month_24', 'day_of_month_25', 'day_of_month_26',\n",
              "       'day_of_month_27', 'day_of_month_28', 'day_of_month_29',\n",
              "       'day_of_month_30', 'day_of_month_31', 'month_apr', 'month_aug',\n",
              "       'month_dec', 'month_feb', 'month_jan', 'month_jul', 'month_jun',\n",
              "       'month_mar', 'month_may', 'month_nov', 'month_oct', 'month_sep',\n",
              "       'prev_campaign_outcome_failure', 'prev_campaign_outcome_other',\n",
              "       'prev_campaign_outcome_success', 'prev_campaign_outcome_unknown'],\n",
              "      dtype=object)"
            ]
          },
          "metadata": {
            "tags": []
          },
          "execution_count": 22
        }
      ]
    },
    {
      "cell_type": "code",
      "metadata": {
        "id": "WY_dFGXXVa6u",
        "colab": {
          "base_uri": "https://localhost:8080/"
        },
        "outputId": "21eadba7-077e-438e-954c-feced4e7a220"
      },
      "source": [
        "data.shape"
      ],
      "execution_count": null,
      "outputs": [
        {
          "output_type": "execute_result",
          "data": {
            "text/plain": [
              "(31647, 96)"
            ]
          },
          "metadata": {
            "tags": []
          },
          "execution_count": 23
        }
      ]
    },
    {
      "cell_type": "code",
      "metadata": {
        "collapsed": true,
        "id": "gJzrBqtoNC-L"
      },
      "source": [
        "data_final_vars=data_final.columns.values.tolist()\n",
        "y=['term_deposit_subscribed']\n",
        "X=[i for i in data_final_vars if i not in y]"
      ],
      "execution_count": null,
      "outputs": []
    },
    {
      "cell_type": "code",
      "metadata": {
        "id": "c_VhK4nderh7"
      },
      "source": [
        "X.remove('id')"
      ],
      "execution_count": null,
      "outputs": []
    },
    {
      "cell_type": "code",
      "metadata": {
        "id": "c2_x1-PJTdoi"
      },
      "source": [
        "temp = X"
      ],
      "execution_count": null,
      "outputs": []
    },
    {
      "cell_type": "markdown",
      "metadata": {
        "id": "yMwbQzZDNC-L"
      },
      "source": [
        "### Feature Selection"
      ]
    },
    {
      "cell_type": "code",
      "metadata": {
        "id": "bWq5kJjJNC-L",
        "colab": {
          "base_uri": "https://localhost:8080/"
        },
        "outputId": "4ebb41ff-e05e-488f-fb56-22731b505114"
      },
      "source": [
        "from sklearn import datasets\n",
        "from sklearn.feature_selection import RFE\n",
        "from sklearn.linear_model import LogisticRegression\n",
        "\n",
        "logreg = LogisticRegression()\n",
        "\n",
        "rfe = RFE(logreg, 18)\n",
        "rfe = rfe.fit(data_final[X], data_final[y] )\n",
        "print(rfe.support_)\n",
        "print(rfe.ranking_)"
      ],
      "execution_count": null,
      "outputs": [
        {
          "output_type": "stream",
          "text": [
            "/usr/local/lib/python3.7/dist-packages/sklearn/utils/validation.py:760: DataConversionWarning: A column-vector y was passed when a 1d array was expected. Please change the shape of y to (n_samples, ), for example using ravel().\n",
            "  y = column_or_1d(y, warn=True)\n",
            "/usr/local/lib/python3.7/dist-packages/sklearn/linear_model/_logistic.py:940: ConvergenceWarning: lbfgs failed to converge (status=1):\n",
            "STOP: TOTAL NO. of ITERATIONS REACHED LIMIT.\n",
            "\n",
            "Increase the number of iterations (max_iter) or scale the data as shown in:\n",
            "    https://scikit-learn.org/stable/modules/preprocessing.html\n",
            "Please also refer to the documentation for alternative solver options:\n",
            "    https://scikit-learn.org/stable/modules/linear_model.html#logistic-regression\n",
            "  extra_warning_msg=_LOGISTIC_SOLVER_CONVERGENCE_MSG)\n",
            "/usr/local/lib/python3.7/dist-packages/sklearn/linear_model/_logistic.py:940: ConvergenceWarning: lbfgs failed to converge (status=1):\n",
            "STOP: TOTAL NO. of ITERATIONS REACHED LIMIT.\n",
            "\n",
            "Increase the number of iterations (max_iter) or scale the data as shown in:\n",
            "    https://scikit-learn.org/stable/modules/preprocessing.html\n",
            "Please also refer to the documentation for alternative solver options:\n",
            "    https://scikit-learn.org/stable/modules/linear_model.html#logistic-regression\n",
            "  extra_warning_msg=_LOGISTIC_SOLVER_CONVERGENCE_MSG)\n",
            "/usr/local/lib/python3.7/dist-packages/sklearn/linear_model/_logistic.py:940: ConvergenceWarning: lbfgs failed to converge (status=1):\n",
            "STOP: TOTAL NO. of ITERATIONS REACHED LIMIT.\n",
            "\n",
            "Increase the number of iterations (max_iter) or scale the data as shown in:\n",
            "    https://scikit-learn.org/stable/modules/preprocessing.html\n",
            "Please also refer to the documentation for alternative solver options:\n",
            "    https://scikit-learn.org/stable/modules/linear_model.html#logistic-regression\n",
            "  extra_warning_msg=_LOGISTIC_SOLVER_CONVERGENCE_MSG)\n",
            "/usr/local/lib/python3.7/dist-packages/sklearn/linear_model/_logistic.py:940: ConvergenceWarning: lbfgs failed to converge (status=1):\n",
            "STOP: TOTAL NO. of ITERATIONS REACHED LIMIT.\n",
            "\n",
            "Increase the number of iterations (max_iter) or scale the data as shown in:\n",
            "    https://scikit-learn.org/stable/modules/preprocessing.html\n",
            "Please also refer to the documentation for alternative solver options:\n",
            "    https://scikit-learn.org/stable/modules/linear_model.html#logistic-regression\n",
            "  extra_warning_msg=_LOGISTIC_SOLVER_CONVERGENCE_MSG)\n",
            "/usr/local/lib/python3.7/dist-packages/sklearn/linear_model/_logistic.py:940: ConvergenceWarning: lbfgs failed to converge (status=1):\n",
            "STOP: TOTAL NO. of ITERATIONS REACHED LIMIT.\n",
            "\n",
            "Increase the number of iterations (max_iter) or scale the data as shown in:\n",
            "    https://scikit-learn.org/stable/modules/preprocessing.html\n",
            "Please also refer to the documentation for alternative solver options:\n",
            "    https://scikit-learn.org/stable/modules/linear_model.html#logistic-regression\n",
            "  extra_warning_msg=_LOGISTIC_SOLVER_CONVERGENCE_MSG)\n",
            "/usr/local/lib/python3.7/dist-packages/sklearn/linear_model/_logistic.py:940: ConvergenceWarning: lbfgs failed to converge (status=1):\n",
            "STOP: TOTAL NO. of ITERATIONS REACHED LIMIT.\n",
            "\n",
            "Increase the number of iterations (max_iter) or scale the data as shown in:\n",
            "    https://scikit-learn.org/stable/modules/preprocessing.html\n",
            "Please also refer to the documentation for alternative solver options:\n",
            "    https://scikit-learn.org/stable/modules/linear_model.html#logistic-regression\n",
            "  extra_warning_msg=_LOGISTIC_SOLVER_CONVERGENCE_MSG)\n",
            "/usr/local/lib/python3.7/dist-packages/sklearn/linear_model/_logistic.py:940: ConvergenceWarning: lbfgs failed to converge (status=1):\n",
            "STOP: TOTAL NO. of ITERATIONS REACHED LIMIT.\n",
            "\n",
            "Increase the number of iterations (max_iter) or scale the data as shown in:\n",
            "    https://scikit-learn.org/stable/modules/preprocessing.html\n",
            "Please also refer to the documentation for alternative solver options:\n",
            "    https://scikit-learn.org/stable/modules/linear_model.html#logistic-regression\n",
            "  extra_warning_msg=_LOGISTIC_SOLVER_CONVERGENCE_MSG)\n",
            "/usr/local/lib/python3.7/dist-packages/sklearn/linear_model/_logistic.py:940: ConvergenceWarning: lbfgs failed to converge (status=1):\n",
            "STOP: TOTAL NO. of ITERATIONS REACHED LIMIT.\n",
            "\n",
            "Increase the number of iterations (max_iter) or scale the data as shown in:\n",
            "    https://scikit-learn.org/stable/modules/preprocessing.html\n",
            "Please also refer to the documentation for alternative solver options:\n",
            "    https://scikit-learn.org/stable/modules/linear_model.html#logistic-regression\n",
            "  extra_warning_msg=_LOGISTIC_SOLVER_CONVERGENCE_MSG)\n",
            "/usr/local/lib/python3.7/dist-packages/sklearn/linear_model/_logistic.py:940: ConvergenceWarning: lbfgs failed to converge (status=1):\n",
            "STOP: TOTAL NO. of ITERATIONS REACHED LIMIT.\n",
            "\n",
            "Increase the number of iterations (max_iter) or scale the data as shown in:\n",
            "    https://scikit-learn.org/stable/modules/preprocessing.html\n",
            "Please also refer to the documentation for alternative solver options:\n",
            "    https://scikit-learn.org/stable/modules/linear_model.html#logistic-regression\n",
            "  extra_warning_msg=_LOGISTIC_SOLVER_CONVERGENCE_MSG)\n",
            "/usr/local/lib/python3.7/dist-packages/sklearn/linear_model/_logistic.py:940: ConvergenceWarning: lbfgs failed to converge (status=1):\n",
            "STOP: TOTAL NO. of ITERATIONS REACHED LIMIT.\n",
            "\n",
            "Increase the number of iterations (max_iter) or scale the data as shown in:\n",
            "    https://scikit-learn.org/stable/modules/preprocessing.html\n",
            "Please also refer to the documentation for alternative solver options:\n",
            "    https://scikit-learn.org/stable/modules/linear_model.html#logistic-regression\n",
            "  extra_warning_msg=_LOGISTIC_SOLVER_CONVERGENCE_MSG)\n",
            "/usr/local/lib/python3.7/dist-packages/sklearn/linear_model/_logistic.py:940: ConvergenceWarning: lbfgs failed to converge (status=1):\n",
            "STOP: TOTAL NO. of ITERATIONS REACHED LIMIT.\n",
            "\n",
            "Increase the number of iterations (max_iter) or scale the data as shown in:\n",
            "    https://scikit-learn.org/stable/modules/preprocessing.html\n",
            "Please also refer to the documentation for alternative solver options:\n",
            "    https://scikit-learn.org/stable/modules/linear_model.html#logistic-regression\n",
            "  extra_warning_msg=_LOGISTIC_SOLVER_CONVERGENCE_MSG)\n",
            "/usr/local/lib/python3.7/dist-packages/sklearn/linear_model/_logistic.py:940: ConvergenceWarning: lbfgs failed to converge (status=1):\n",
            "STOP: TOTAL NO. of ITERATIONS REACHED LIMIT.\n",
            "\n",
            "Increase the number of iterations (max_iter) or scale the data as shown in:\n",
            "    https://scikit-learn.org/stable/modules/preprocessing.html\n",
            "Please also refer to the documentation for alternative solver options:\n",
            "    https://scikit-learn.org/stable/modules/linear_model.html#logistic-regression\n",
            "  extra_warning_msg=_LOGISTIC_SOLVER_CONVERGENCE_MSG)\n",
            "/usr/local/lib/python3.7/dist-packages/sklearn/linear_model/_logistic.py:940: ConvergenceWarning: lbfgs failed to converge (status=1):\n",
            "STOP: TOTAL NO. of ITERATIONS REACHED LIMIT.\n",
            "\n",
            "Increase the number of iterations (max_iter) or scale the data as shown in:\n",
            "    https://scikit-learn.org/stable/modules/preprocessing.html\n",
            "Please also refer to the documentation for alternative solver options:\n",
            "    https://scikit-learn.org/stable/modules/linear_model.html#logistic-regression\n",
            "  extra_warning_msg=_LOGISTIC_SOLVER_CONVERGENCE_MSG)\n",
            "/usr/local/lib/python3.7/dist-packages/sklearn/linear_model/_logistic.py:940: ConvergenceWarning: lbfgs failed to converge (status=1):\n",
            "STOP: TOTAL NO. of ITERATIONS REACHED LIMIT.\n",
            "\n",
            "Increase the number of iterations (max_iter) or scale the data as shown in:\n",
            "    https://scikit-learn.org/stable/modules/preprocessing.html\n",
            "Please also refer to the documentation for alternative solver options:\n",
            "    https://scikit-learn.org/stable/modules/linear_model.html#logistic-regression\n",
            "  extra_warning_msg=_LOGISTIC_SOLVER_CONVERGENCE_MSG)\n",
            "/usr/local/lib/python3.7/dist-packages/sklearn/linear_model/_logistic.py:940: ConvergenceWarning: lbfgs failed to converge (status=1):\n",
            "STOP: TOTAL NO. of ITERATIONS REACHED LIMIT.\n",
            "\n",
            "Increase the number of iterations (max_iter) or scale the data as shown in:\n",
            "    https://scikit-learn.org/stable/modules/preprocessing.html\n",
            "Please also refer to the documentation for alternative solver options:\n",
            "    https://scikit-learn.org/stable/modules/linear_model.html#logistic-regression\n",
            "  extra_warning_msg=_LOGISTIC_SOLVER_CONVERGENCE_MSG)\n",
            "/usr/local/lib/python3.7/dist-packages/sklearn/linear_model/_logistic.py:940: ConvergenceWarning: lbfgs failed to converge (status=1):\n",
            "STOP: TOTAL NO. of ITERATIONS REACHED LIMIT.\n",
            "\n",
            "Increase the number of iterations (max_iter) or scale the data as shown in:\n",
            "    https://scikit-learn.org/stable/modules/preprocessing.html\n",
            "Please also refer to the documentation for alternative solver options:\n",
            "    https://scikit-learn.org/stable/modules/linear_model.html#logistic-regression\n",
            "  extra_warning_msg=_LOGISTIC_SOLVER_CONVERGENCE_MSG)\n",
            "/usr/local/lib/python3.7/dist-packages/sklearn/linear_model/_logistic.py:940: ConvergenceWarning: lbfgs failed to converge (status=1):\n",
            "STOP: TOTAL NO. of ITERATIONS REACHED LIMIT.\n",
            "\n",
            "Increase the number of iterations (max_iter) or scale the data as shown in:\n",
            "    https://scikit-learn.org/stable/modules/preprocessing.html\n",
            "Please also refer to the documentation for alternative solver options:\n",
            "    https://scikit-learn.org/stable/modules/linear_model.html#logistic-regression\n",
            "  extra_warning_msg=_LOGISTIC_SOLVER_CONVERGENCE_MSG)\n",
            "/usr/local/lib/python3.7/dist-packages/sklearn/linear_model/_logistic.py:940: ConvergenceWarning: lbfgs failed to converge (status=1):\n",
            "STOP: TOTAL NO. of ITERATIONS REACHED LIMIT.\n",
            "\n",
            "Increase the number of iterations (max_iter) or scale the data as shown in:\n",
            "    https://scikit-learn.org/stable/modules/preprocessing.html\n",
            "Please also refer to the documentation for alternative solver options:\n",
            "    https://scikit-learn.org/stable/modules/linear_model.html#logistic-regression\n",
            "  extra_warning_msg=_LOGISTIC_SOLVER_CONVERGENCE_MSG)\n",
            "/usr/local/lib/python3.7/dist-packages/sklearn/linear_model/_logistic.py:940: ConvergenceWarning: lbfgs failed to converge (status=1):\n",
            "STOP: TOTAL NO. of ITERATIONS REACHED LIMIT.\n",
            "\n",
            "Increase the number of iterations (max_iter) or scale the data as shown in:\n",
            "    https://scikit-learn.org/stable/modules/preprocessing.html\n",
            "Please also refer to the documentation for alternative solver options:\n",
            "    https://scikit-learn.org/stable/modules/linear_model.html#logistic-regression\n",
            "  extra_warning_msg=_LOGISTIC_SOLVER_CONVERGENCE_MSG)\n",
            "/usr/local/lib/python3.7/dist-packages/sklearn/linear_model/_logistic.py:940: ConvergenceWarning: lbfgs failed to converge (status=1):\n",
            "STOP: TOTAL NO. of ITERATIONS REACHED LIMIT.\n",
            "\n",
            "Increase the number of iterations (max_iter) or scale the data as shown in:\n",
            "    https://scikit-learn.org/stable/modules/preprocessing.html\n",
            "Please also refer to the documentation for alternative solver options:\n",
            "    https://scikit-learn.org/stable/modules/linear_model.html#logistic-regression\n",
            "  extra_warning_msg=_LOGISTIC_SOLVER_CONVERGENCE_MSG)\n",
            "/usr/local/lib/python3.7/dist-packages/sklearn/linear_model/_logistic.py:940: ConvergenceWarning: lbfgs failed to converge (status=1):\n",
            "STOP: TOTAL NO. of ITERATIONS REACHED LIMIT.\n",
            "\n",
            "Increase the number of iterations (max_iter) or scale the data as shown in:\n",
            "    https://scikit-learn.org/stable/modules/preprocessing.html\n",
            "Please also refer to the documentation for alternative solver options:\n",
            "    https://scikit-learn.org/stable/modules/linear_model.html#logistic-regression\n",
            "  extra_warning_msg=_LOGISTIC_SOLVER_CONVERGENCE_MSG)\n",
            "/usr/local/lib/python3.7/dist-packages/sklearn/linear_model/_logistic.py:940: ConvergenceWarning: lbfgs failed to converge (status=1):\n",
            "STOP: TOTAL NO. of ITERATIONS REACHED LIMIT.\n",
            "\n",
            "Increase the number of iterations (max_iter) or scale the data as shown in:\n",
            "    https://scikit-learn.org/stable/modules/preprocessing.html\n",
            "Please also refer to the documentation for alternative solver options:\n",
            "    https://scikit-learn.org/stable/modules/linear_model.html#logistic-regression\n",
            "  extra_warning_msg=_LOGISTIC_SOLVER_CONVERGENCE_MSG)\n",
            "/usr/local/lib/python3.7/dist-packages/sklearn/linear_model/_logistic.py:940: ConvergenceWarning: lbfgs failed to converge (status=1):\n",
            "STOP: TOTAL NO. of ITERATIONS REACHED LIMIT.\n",
            "\n",
            "Increase the number of iterations (max_iter) or scale the data as shown in:\n",
            "    https://scikit-learn.org/stable/modules/preprocessing.html\n",
            "Please also refer to the documentation for alternative solver options:\n",
            "    https://scikit-learn.org/stable/modules/linear_model.html#logistic-regression\n",
            "  extra_warning_msg=_LOGISTIC_SOLVER_CONVERGENCE_MSG)\n",
            "/usr/local/lib/python3.7/dist-packages/sklearn/linear_model/_logistic.py:940: ConvergenceWarning: lbfgs failed to converge (status=1):\n",
            "STOP: TOTAL NO. of ITERATIONS REACHED LIMIT.\n",
            "\n",
            "Increase the number of iterations (max_iter) or scale the data as shown in:\n",
            "    https://scikit-learn.org/stable/modules/preprocessing.html\n",
            "Please also refer to the documentation for alternative solver options:\n",
            "    https://scikit-learn.org/stable/modules/linear_model.html#logistic-regression\n",
            "  extra_warning_msg=_LOGISTIC_SOLVER_CONVERGENCE_MSG)\n",
            "/usr/local/lib/python3.7/dist-packages/sklearn/linear_model/_logistic.py:940: ConvergenceWarning: lbfgs failed to converge (status=1):\n",
            "STOP: TOTAL NO. of ITERATIONS REACHED LIMIT.\n",
            "\n",
            "Increase the number of iterations (max_iter) or scale the data as shown in:\n",
            "    https://scikit-learn.org/stable/modules/preprocessing.html\n",
            "Please also refer to the documentation for alternative solver options:\n",
            "    https://scikit-learn.org/stable/modules/linear_model.html#logistic-regression\n",
            "  extra_warning_msg=_LOGISTIC_SOLVER_CONVERGENCE_MSG)\n",
            "/usr/local/lib/python3.7/dist-packages/sklearn/linear_model/_logistic.py:940: ConvergenceWarning: lbfgs failed to converge (status=1):\n",
            "STOP: TOTAL NO. of ITERATIONS REACHED LIMIT.\n",
            "\n",
            "Increase the number of iterations (max_iter) or scale the data as shown in:\n",
            "    https://scikit-learn.org/stable/modules/preprocessing.html\n",
            "Please also refer to the documentation for alternative solver options:\n",
            "    https://scikit-learn.org/stable/modules/linear_model.html#logistic-regression\n",
            "  extra_warning_msg=_LOGISTIC_SOLVER_CONVERGENCE_MSG)\n",
            "/usr/local/lib/python3.7/dist-packages/sklearn/linear_model/_logistic.py:940: ConvergenceWarning: lbfgs failed to converge (status=1):\n",
            "STOP: TOTAL NO. of ITERATIONS REACHED LIMIT.\n",
            "\n",
            "Increase the number of iterations (max_iter) or scale the data as shown in:\n",
            "    https://scikit-learn.org/stable/modules/preprocessing.html\n",
            "Please also refer to the documentation for alternative solver options:\n",
            "    https://scikit-learn.org/stable/modules/linear_model.html#logistic-regression\n",
            "  extra_warning_msg=_LOGISTIC_SOLVER_CONVERGENCE_MSG)\n",
            "/usr/local/lib/python3.7/dist-packages/sklearn/linear_model/_logistic.py:940: ConvergenceWarning: lbfgs failed to converge (status=1):\n",
            "STOP: TOTAL NO. of ITERATIONS REACHED LIMIT.\n",
            "\n",
            "Increase the number of iterations (max_iter) or scale the data as shown in:\n",
            "    https://scikit-learn.org/stable/modules/preprocessing.html\n",
            "Please also refer to the documentation for alternative solver options:\n",
            "    https://scikit-learn.org/stable/modules/linear_model.html#logistic-regression\n",
            "  extra_warning_msg=_LOGISTIC_SOLVER_CONVERGENCE_MSG)\n",
            "/usr/local/lib/python3.7/dist-packages/sklearn/linear_model/_logistic.py:940: ConvergenceWarning: lbfgs failed to converge (status=1):\n",
            "STOP: TOTAL NO. of ITERATIONS REACHED LIMIT.\n",
            "\n",
            "Increase the number of iterations (max_iter) or scale the data as shown in:\n",
            "    https://scikit-learn.org/stable/modules/preprocessing.html\n",
            "Please also refer to the documentation for alternative solver options:\n",
            "    https://scikit-learn.org/stable/modules/linear_model.html#logistic-regression\n",
            "  extra_warning_msg=_LOGISTIC_SOLVER_CONVERGENCE_MSG)\n",
            "/usr/local/lib/python3.7/dist-packages/sklearn/linear_model/_logistic.py:940: ConvergenceWarning: lbfgs failed to converge (status=1):\n",
            "STOP: TOTAL NO. of ITERATIONS REACHED LIMIT.\n",
            "\n",
            "Increase the number of iterations (max_iter) or scale the data as shown in:\n",
            "    https://scikit-learn.org/stable/modules/preprocessing.html\n",
            "Please also refer to the documentation for alternative solver options:\n",
            "    https://scikit-learn.org/stable/modules/linear_model.html#logistic-regression\n",
            "  extra_warning_msg=_LOGISTIC_SOLVER_CONVERGENCE_MSG)\n",
            "/usr/local/lib/python3.7/dist-packages/sklearn/linear_model/_logistic.py:940: ConvergenceWarning: lbfgs failed to converge (status=1):\n",
            "STOP: TOTAL NO. of ITERATIONS REACHED LIMIT.\n",
            "\n",
            "Increase the number of iterations (max_iter) or scale the data as shown in:\n",
            "    https://scikit-learn.org/stable/modules/preprocessing.html\n",
            "Please also refer to the documentation for alternative solver options:\n",
            "    https://scikit-learn.org/stable/modules/linear_model.html#logistic-regression\n",
            "  extra_warning_msg=_LOGISTIC_SOLVER_CONVERGENCE_MSG)\n",
            "/usr/local/lib/python3.7/dist-packages/sklearn/linear_model/_logistic.py:940: ConvergenceWarning: lbfgs failed to converge (status=1):\n",
            "STOP: TOTAL NO. of ITERATIONS REACHED LIMIT.\n",
            "\n",
            "Increase the number of iterations (max_iter) or scale the data as shown in:\n",
            "    https://scikit-learn.org/stable/modules/preprocessing.html\n",
            "Please also refer to the documentation for alternative solver options:\n",
            "    https://scikit-learn.org/stable/modules/linear_model.html#logistic-regression\n",
            "  extra_warning_msg=_LOGISTIC_SOLVER_CONVERGENCE_MSG)\n"
          ],
          "name": "stderr"
        },
        {
          "output_type": "stream",
          "text": [
            "[False False False False False False False False False False False False\n",
            " False False False False False False False False False False  True False\n",
            " False False False False False False  True False False False False  True\n",
            " False False False False False False False False False False  True False\n",
            " False False False False False False False False False False False False\n",
            " False False False False False False  True False False  True  True False\n",
            "  True  True False  True  True  True  True  True  True  True  True  True]\n",
            "[64 67 61 36 66 60 65 47 48 34 13 50  8 55 46 17 49 20 59 24 54 10  1 22\n",
            " 25 45 31 43 42 41  1 37 11  4 15  1 16 58 63 29 62 52 38  6 40 51  1 57\n",
            " 19  9 53 30 32 12 21  7  5 33 23 28 56 27 35 18 14 39  1  3 44  1  1  2\n",
            "  1  1 26  1  1  1  1  1  1  1  1  1]\n"
          ],
          "name": "stdout"
        }
      ]
    },
    {
      "cell_type": "code",
      "metadata": {
        "id": "zPI1FdbTaKdZ",
        "colab": {
          "base_uri": "https://localhost:8080/"
        },
        "outputId": "1ca0611b-ec9a-4360-a94f-8e8408ffe2d0"
      },
      "source": [
        "rk= rfe.ranking_\n",
        "cols=list()\n",
        "for x,y in zip(rk,temp):\n",
        "  if(x==1):\n",
        "    cols.append(y)\n",
        "cols"
      ],
      "execution_count": null,
      "outputs": [
        {
          "output_type": "execute_result",
          "data": {
            "text/plain": [
              "['marital_unknown',\n",
              " 'housing_loan_yes',\n",
              " 'communication_type_email',\n",
              " 'day_of_month_10',\n",
              " 'day_of_month_30',\n",
              " 'month_aug',\n",
              " 'month_dec',\n",
              " 'month_jan',\n",
              " 'month_jul',\n",
              " 'month_mar',\n",
              " 'month_may',\n",
              " 'month_nov',\n",
              " 'month_oct',\n",
              " 'month_sep',\n",
              " 'prev_campaign_outcome_failure',\n",
              " 'prev_campaign_outcome_other',\n",
              " 'prev_campaign_outcome_success',\n",
              " 'prev_campaign_outcome_unknown']"
            ]
          },
          "metadata": {
            "tags": []
          },
          "execution_count": 28
        }
      ]
    },
    {
      "cell_type": "code",
      "metadata": {
        "collapsed": true,
        "id": "ejbUU1kwNC-M"
      },
      "source": [
        "X=data_final[cols]\n",
        "y=data_final['term_deposit_subscribed']"
      ],
      "execution_count": null,
      "outputs": []
    },
    {
      "cell_type": "markdown",
      "metadata": {
        "id": "ZidQgScuNC-M"
      },
      "source": [
        "### Implementing the model"
      ]
    },
    {
      "cell_type": "code",
      "metadata": {
        "id": "AfEw7D91NC-N",
        "colab": {
          "base_uri": "https://localhost:8080/"
        },
        "outputId": "ce36f5a4-dc5b-4e24-ecca-d7abc088206f"
      },
      "source": [
        "import statsmodels.api as sm\n",
        "logit_model=sm.Logit(y,X)\n",
        "result=logit_model.fit()\n",
        "print(result.summary())"
      ],
      "execution_count": null,
      "outputs": [
        {
          "output_type": "stream",
          "text": [
            "/usr/local/lib/python3.7/dist-packages/statsmodels/tools/_testing.py:19: FutureWarning: pandas.util.testing is deprecated. Use the functions in the public API at pandas.testing instead.\n",
            "  import pandas.util.testing as tm\n"
          ],
          "name": "stderr"
        },
        {
          "output_type": "stream",
          "text": [
            "Optimization terminated successfully.\n",
            "         Current function value: 0.280869\n",
            "         Iterations 7\n",
            "                              Logit Regression Results                             \n",
            "===================================================================================\n",
            "Dep. Variable:     term_deposit_subscribed   No. Observations:                31647\n",
            "Model:                               Logit   Df Residuals:                    31629\n",
            "Method:                                MLE   Df Model:                           17\n",
            "Date:                     Fri, 30 Apr 2021   Pseudo R-squ.:                  0.1757\n",
            "Time:                             15:17:34   Log-Likelihood:                -8888.7\n",
            "converged:                            True   LL-Null:                       -10783.\n",
            "Covariance Type:                 nonrobust   LLR p-value:                     0.000\n",
            "=================================================================================================\n",
            "                                    coef    std err          z      P>|z|      [0.025      0.975]\n",
            "-------------------------------------------------------------------------------------------------\n",
            "marital_unknown                  -0.6967      0.348     -2.000      0.046      -1.379      -0.014\n",
            "housing_loan_yes                 -0.6902      0.046    -15.124      0.000      -0.780      -0.601\n",
            "communication_type_email         -1.2584      0.068    -18.609      0.000      -1.391      -1.126\n",
            "day_of_month_10                   0.5297      0.153      3.473      0.001       0.231       0.829\n",
            "day_of_month_30                   0.5977      0.096      6.243      0.000       0.410       0.785\n",
            "month_aug                        -0.9212      0.069    -13.399      0.000      -1.056      -0.786\n",
            "month_dec                         0.7505      0.188      3.990      0.000       0.382       1.119\n",
            "month_jan                        -1.1243      0.128     -8.752      0.000      -1.376      -0.873\n",
            "month_jul                        -0.8873      0.069    -12.811      0.000      -1.023      -0.752\n",
            "month_mar                         1.3469      0.123     10.982      0.000       1.107       1.587\n",
            "month_may                        -0.4055      0.061     -6.637      0.000      -0.525      -0.286\n",
            "month_nov                        -0.7240      0.079     -9.205      0.000      -0.878      -0.570\n",
            "month_oct                         0.8525      0.108      7.882      0.000       0.641       1.064\n",
            "month_sep                         0.9706      0.118      8.222      0.000       0.739       1.202\n",
            "prev_campaign_outcome_failure    -1.4273      0.068    -20.997      0.000      -1.561      -1.294\n",
            "prev_campaign_outcome_other      -1.2086      0.091    -13.290      0.000      -1.387      -1.030\n",
            "prev_campaign_outcome_success     1.0905      0.079     13.816      0.000       0.936       1.245\n",
            "prev_campaign_outcome_unknown    -1.4026      0.046    -30.202      0.000      -1.494      -1.312\n",
            "=================================================================================================\n"
          ],
          "name": "stdout"
        }
      ]
    },
    {
      "cell_type": "markdown",
      "metadata": {
        "id": "RIOVxgxGNC-O"
      },
      "source": [
        "The p-values for most of the variables are very small, therefore, most of them are significant to the model."
      ]
    },
    {
      "cell_type": "markdown",
      "metadata": {
        "id": "-qONqeT-NC-O"
      },
      "source": [
        "### Logistic Regression Model Fitting"
      ]
    },
    {
      "cell_type": "code",
      "metadata": {
        "id": "Iu4b55ZwSoEk"
      },
      "source": [
        "from sklearn.model_selection import train_test_split"
      ],
      "execution_count": null,
      "outputs": []
    },
    {
      "cell_type": "code",
      "metadata": {
        "id": "XkeB0XRzNC-P",
        "colab": {
          "base_uri": "https://localhost:8080/"
        },
        "outputId": "3b5df5f3-5c45-4493-e83d-6b5a8cede68b"
      },
      "source": [
        "X_train, X_test, y_train, y_test = train_test_split(X, y, test_size=0.3, random_state=0)\n",
        "from sklearn.linear_model import LogisticRegression\n",
        "from sklearn import metrics\n",
        "logreg = LogisticRegression()\n",
        "logreg.fit(X_train, y_train)"
      ],
      "execution_count": null,
      "outputs": [
        {
          "output_type": "execute_result",
          "data": {
            "text/plain": [
              "LogisticRegression(C=1.0, class_weight=None, dual=False, fit_intercept=True,\n",
              "                   intercept_scaling=1, l1_ratio=None, max_iter=100,\n",
              "                   multi_class='auto', n_jobs=None, penalty='l2',\n",
              "                   random_state=None, solver='lbfgs', tol=0.0001, verbose=0,\n",
              "                   warm_start=False)"
            ]
          },
          "metadata": {
            "tags": []
          },
          "execution_count": 32
        }
      ]
    },
    {
      "cell_type": "markdown",
      "metadata": {
        "id": "pB0NhnHTNC-P"
      },
      "source": [
        "#### Predicting the test set results and caculating the accuracy"
      ]
    },
    {
      "cell_type": "code",
      "metadata": {
        "collapsed": true,
        "id": "_vnf1Sj8NC-Q"
      },
      "source": [
        "y_pred = logreg.predict(X_test)"
      ],
      "execution_count": null,
      "outputs": []
    },
    {
      "cell_type": "code",
      "metadata": {
        "id": "RdN5nsH6NC-R",
        "colab": {
          "base_uri": "https://localhost:8080/"
        },
        "outputId": "c08debf8-8a74-454f-f52a-0f23f8e74877"
      },
      "source": [
        "print('Accuracy of logistic regression classifier on test set: {:.2f}'.format(logreg.score(X_test, y_test)))"
      ],
      "execution_count": null,
      "outputs": [
        {
          "output_type": "stream",
          "text": [
            "Accuracy of logistic regression classifier on test set: 0.90\n"
          ],
          "name": "stdout"
        }
      ]
    },
    {
      "cell_type": "markdown",
      "metadata": {
        "id": "Mzd61-VFNC-S"
      },
      "source": [
        "### Cross Validation"
      ]
    },
    {
      "cell_type": "code",
      "metadata": {
        "id": "Zg8hI5jwNC-S",
        "colab": {
          "base_uri": "https://localhost:8080/"
        },
        "outputId": "a5d01910-7367-46aa-9647-5db1e9eeee36"
      },
      "source": [
        "from sklearn import model_selection\n",
        "from sklearn.model_selection import cross_val_score\n",
        "kfold = model_selection.KFold(n_splits=10, random_state=7)\n",
        "modelCV = LogisticRegression()\n",
        "scoring = 'accuracy'\n",
        "results = model_selection.cross_val_score(modelCV, X_train, y_train, cv=kfold, scoring=scoring)\n",
        "print(\"10-fold cross validation average accuracy: %.3f\" % (results.mean()))"
      ],
      "execution_count": null,
      "outputs": [
        {
          "output_type": "stream",
          "text": [
            "/usr/local/lib/python3.7/dist-packages/sklearn/model_selection/_split.py:296: FutureWarning: Setting a random_state has no effect since shuffle is False. This will raise an error in 0.24. You should leave random_state to its default (None), or set shuffle=True.\n",
            "  FutureWarning\n"
          ],
          "name": "stderr"
        },
        {
          "output_type": "stream",
          "text": [
            "10-fold cross validation average accuracy: 0.905\n"
          ],
          "name": "stdout"
        }
      ]
    },
    {
      "cell_type": "markdown",
      "metadata": {
        "id": "Ap7CRKiFNC-T"
      },
      "source": [
        "### Confusion Matrix"
      ]
    },
    {
      "cell_type": "code",
      "metadata": {
        "id": "ehAeq2tCNC-T",
        "colab": {
          "base_uri": "https://localhost:8080/"
        },
        "outputId": "5c59acf9-37b4-44b4-83b0-c539e631aa2d"
      },
      "source": [
        "from sklearn.metrics import confusion_matrix\n",
        "confusion_matrix = confusion_matrix(y_test, y_pred)\n",
        "print(confusion_matrix)"
      ],
      "execution_count": null,
      "outputs": [
        {
          "output_type": "stream",
          "text": [
            "[[8345  113]\n",
            " [ 823  214]]\n"
          ],
          "name": "stdout"
        }
      ]
    },
    {
      "cell_type": "markdown",
      "metadata": {
        "id": "6wP0_RHNNC-T"
      },
      "source": [
        "The result is telling us that we have 8400+196 correct \n",
        "\n",
        "1.   List item\n",
        "2.   List item\n",
        "\n",
        "predictions and 827+72 incorrect predictions."
      ]
    },
    {
      "cell_type": "markdown",
      "metadata": {
        "id": "8pis9mMXNC-U"
      },
      "source": [
        "#### Accuracy"
      ]
    },
    {
      "cell_type": "code",
      "metadata": {
        "id": "kyLWjSpONC-U",
        "colab": {
          "base_uri": "https://localhost:8080/"
        },
        "outputId": "6d6f181a-fe62-45d4-eb15-fad5aaa85c88"
      },
      "source": [
        "print('Accuracy of logistic regression classifier on test set: {:.2f}'.format(logreg.score(X_test, y_test)))"
      ],
      "execution_count": null,
      "outputs": [
        {
          "output_type": "stream",
          "text": [
            "Accuracy of logistic regression classifier on test set: 0.90\n"
          ],
          "name": "stdout"
        }
      ]
    },
    {
      "cell_type": "markdown",
      "metadata": {
        "id": "AFzzzDVvNC-V"
      },
      "source": [
        "#### Compute precision, recall, F-measure and support\n",
        "\n",
        "The precision is the ratio tp / (tp + fp) where tp is the number of true positives and fp the number of false positives. The precision is intuitively the ability of the classifier not to label as positive a sample that is negative.\n",
        "\n",
        "The recall is the ratio tp / (tp + fn) where tp is the number of true positives and fn the number of false negatives. The recall is intuitively the ability of the classifier to find all the positive samples.\n",
        "\n",
        "The F-beta score can be interpreted as a weighted harmonic mean of the precision and recall, where an F-beta score reaches its best value at 1 and worst score at 0.\n",
        "\n",
        "The F-beta score weights recall more than precision by a factor of beta. beta == 1.0 means recall and precision are equally important.\n",
        "\n",
        "The support is the number of occurrences of each class in y_test."
      ]
    },
    {
      "cell_type": "code",
      "metadata": {
        "id": "UGWq6IkzNC-V",
        "colab": {
          "base_uri": "https://localhost:8080/"
        },
        "outputId": "2874a605-0b6f-4d3e-9603-40fc6abed48a"
      },
      "source": [
        "from sklearn.metrics import classification_report\n",
        "print(classification_report(y_test, y_pred))"
      ],
      "execution_count": null,
      "outputs": [
        {
          "output_type": "stream",
          "text": [
            "              precision    recall  f1-score   support\n",
            "\n",
            "           0       0.91      0.99      0.95      8458\n",
            "           1       0.65      0.21      0.31      1037\n",
            "\n",
            "    accuracy                           0.90      9495\n",
            "   macro avg       0.78      0.60      0.63      9495\n",
            "weighted avg       0.88      0.90      0.88      9495\n",
            "\n"
          ],
          "name": "stdout"
        }
      ]
    },
    {
      "cell_type": "markdown",
      "metadata": {
        "id": "EUm6VFOvNC-V"
      },
      "source": [
        "#### Interpretation: \n",
        "\n",
        "Of the entire test set, 88% of the promoted term deposit were the term deposit that the customers liked. Of the entire test set, 90% of the customer's preferred term deposit were promoted."
      ]
    },
    {
      "cell_type": "markdown",
      "metadata": {
        "id": "Zh9tMJu8NC-W"
      },
      "source": [
        "### ROC Curve"
      ]
    },
    {
      "cell_type": "code",
      "metadata": {
        "id": "q4j8zMErNC-W",
        "colab": {
          "base_uri": "https://localhost:8080/"
        },
        "outputId": "17a28f7c-6340-45d1-df0e-ab021aa57417"
      },
      "source": [
        "from sklearn.metrics import roc_auc_score\n",
        "from sklearn.metrics import roc_curve\n",
        "logit_roc_auc = roc_auc_score(y_test, logreg.predict(X_test))\n",
        "fpr, tpr, thresholds = roc_curve(y_test, logreg.predict_proba(X_test)[:,1])\n",
        "plt.figure()\n",
        "plt.plot(fpr, tpr, label='Logistic Regression (area = %0.2f)' % logit_roc_auc)\n",
        "plt.plot([0, 1], [0, 1],'r--')\n",
        "plt.xlim([0.0, 1.0])\n",
        "plt.ylim([0.0, 1.05])\n",
        "plt.xlabel('False Positive Rate')\n",
        "plt.ylabel('True Positive Rate')\n",
        "plt.title('Receiver operating characteristic')\n",
        "plt.legend(loc=\"lower right\")\n",
        "plt.savefig('Log_ROC')\n",
        "plt.show()"
      ],
      "execution_count": null,
      "outputs": [
        {
          "output_type": "display_data",
          "data": {
            "image/png": "[encoded data removed]",
            "text/plain": [
              "<Figure size 432x288 with 1 Axes>"
            ]
          },
          "metadata": {
            "tags": [],
            "needs_background": "light"
          }
        }
      ]
    },
    {
      "cell_type": "markdown",
      "metadata": {
        "id": "hgNM63QeYqOU"
      },
      "source": [
        "## Prediction on Test data"
      ]
    },
    {
      "cell_type": "code",
      "metadata": {
        "id": "E43Es-hrJxdu",
        "colab": {
          "base_uri": "https://localhost:8080/"
        },
        "outputId": "aa089aa1-774f-45d7-d29a-4f08529a1b28"
      },
      "source": [
        "test_data=pd.read_csv(\"/content/drive/MyDrive/Colab Notebooks/dataset/output/test_data.csv\")\n",
        "print(test_data.shape)\n",
        "print(list(test_data.columns))"
      ],
      "execution_count": null,
      "outputs": [
        {
          "output_type": "stream",
          "text": [
            "(13564, 18)\n",
            "['id', 'customer_age', 'job_type', 'marital', 'education', 'default', 'balance', 'housing_loan', 'personal_loan', 'communication_type', 'day_of_month', 'month', 'last_contact_duration', 'num_contacts_in_campaign', 'days_since_prev_campaign_contact', 'num_contacts_prev_campaign', 'prev_campaign_outcome', 'spending_score']\n"
          ],
          "name": "stdout"
        }
      ]
    },
    {
      "cell_type": "code",
      "metadata": {
        "id": "Il74sYynhQ3T"
      },
      "source": [
        "final_data = test_data"
      ],
      "execution_count": null,
      "outputs": []
    },
    {
      "cell_type": "code",
      "metadata": {
        "id": "1_eYQAXoXWL3"
      },
      "source": [
        "cat_vars=['job_type','marital','education','default','housing_loan','personal_loan','communication_type','day_of_month','month','prev_campaign_outcome']\n",
        "for var in cat_vars:\n",
        "    cat_list='var'+'_'+var\n",
        "    cat_list = pd.get_dummies(test_data[var], prefix=var)\n",
        "    test_data1=test_data.join(cat_list)\n",
        "    test_data=test_data1"
      ],
      "execution_count": null,
      "outputs": []
    },
    {
      "cell_type": "code",
      "metadata": {
        "id": "jjSMZVuBXcU_"
      },
      "source": [
        "cat_vars=['job_type','marital','education','default','housing_loan','personal_loan','communication_type','day_of_month','month','prev_campaign_outcome']\n",
        "test_data_vars=test_data.columns.values.tolist()\n",
        "to_keep=[i for i in test_data_vars if i not in cat_vars]"
      ],
      "execution_count": null,
      "outputs": []
    },
    {
      "cell_type": "code",
      "metadata": {
        "id": "eE8_m9fLXlG9",
        "colab": {
          "base_uri": "https://localhost:8080/"
        },
        "outputId": "07c1a375-93ae-4ccd-a3d2-09f9e969db33"
      },
      "source": [
        "test_data_final=test_data[to_keep]\n",
        "test_data_final.columns.values"
      ],
      "execution_count": null,
      "outputs": [
        {
          "output_type": "execute_result",
          "data": {
            "text/plain": [
              "array(['id', 'customer_age', 'balance', 'last_contact_duration',\n",
              "       'num_contacts_in_campaign', 'days_since_prev_campaign_contact',\n",
              "       'num_contacts_prev_campaign', 'spending_score', 'job_type_admin.',\n",
              "       'job_type_blue-collar', 'job_type_entrepreneur',\n",
              "       'job_type_housemaid', 'job_type_management', 'job_type_retired',\n",
              "       'job_type_self-employed', 'job_type_services', 'job_type_student',\n",
              "       'job_type_technician', 'job_type_unemployed', 'job_type_unknown',\n",
              "       'marital_divorced', 'marital_married', 'marital_single',\n",
              "       'marital_unknown', 'education_primary', 'education_secondary',\n",
              "       'education_tertiary', 'education_unknown', 'default_no',\n",
              "       'default_yes', 'housing_loan_no', 'housing_loan_yes',\n",
              "       'personal_loan_no', 'personal_loan_unknown', 'personal_loan_yes',\n",
              "       'communication_type_cellular', 'communication_type_email',\n",
              "       'communication_type_telephone', 'day_of_month_1', 'day_of_month_2',\n",
              "       'day_of_month_3', 'day_of_month_4', 'day_of_month_5',\n",
              "       'day_of_month_6', 'day_of_month_7', 'day_of_month_8',\n",
              "       'day_of_month_9', 'day_of_month_10', 'day_of_month_11',\n",
              "       'day_of_month_12', 'day_of_month_13', 'day_of_month_14',\n",
              "       'day_of_month_15', 'day_of_month_16', 'day_of_month_17',\n",
              "       'day_of_month_18', 'day_of_month_19', 'day_of_month_20',\n",
              "       'day_of_month_21', 'day_of_month_22', 'day_of_month_23',\n",
              "       'day_of_month_24', 'day_of_month_25', 'day_of_month_26',\n",
              "       'day_of_month_27', 'day_of_month_28', 'day_of_month_29',\n",
              "       'day_of_month_30', 'day_of_month_31', 'month_apr', 'month_aug',\n",
              "       'month_dec', 'month_feb', 'month_jan', 'month_jul', 'month_jun',\n",
              "       'month_mar', 'month_may', 'month_nov', 'month_oct', 'month_sep',\n",
              "       'prev_campaign_outcome_failure', 'prev_campaign_outcome_other',\n",
              "       'prev_campaign_outcome_success', 'prev_campaign_outcome_unknown'],\n",
              "      dtype=object)"
            ]
          },
          "metadata": {
            "tags": []
          },
          "execution_count": 44
        }
      ]
    },
    {
      "cell_type": "code",
      "metadata": {
        "id": "PJsTeNoWY5_1"
      },
      "source": [
        "test_data_final_vars=test_data_final.columns.values.tolist()\n",
        "X=[i for i in test_data_final_vars]"
      ],
      "execution_count": null,
      "outputs": []
    },
    {
      "cell_type": "code",
      "metadata": {
        "id": "mjajkt-BZGmj"
      },
      "source": [
        "X.remove('id')"
      ],
      "execution_count": null,
      "outputs": []
    },
    {
      "cell_type": "code",
      "metadata": {
        "id": "kowTdsVser0a",
        "colab": {
          "base_uri": "https://localhost:8080/"
        },
        "outputId": "86a7e448-111f-41d0-f228-eeb8248ee678"
      },
      "source": [
        "X"
      ],
      "execution_count": null,
      "outputs": [
        {
          "output_type": "execute_result",
          "data": {
            "text/plain": [
              "['customer_age',\n",
              " 'balance',\n",
              " 'last_contact_duration',\n",
              " 'num_contacts_in_campaign',\n",
              " 'days_since_prev_campaign_contact',\n",
              " 'num_contacts_prev_campaign',\n",
              " 'spending_score',\n",
              " 'job_type_admin.',\n",
              " 'job_type_blue-collar',\n",
              " 'job_type_entrepreneur',\n",
              " 'job_type_housemaid',\n",
              " 'job_type_management',\n",
              " 'job_type_retired',\n",
              " 'job_type_self-employed',\n",
              " 'job_type_services',\n",
              " 'job_type_student',\n",
              " 'job_type_technician',\n",
              " 'job_type_unemployed',\n",
              " 'job_type_unknown',\n",
              " 'marital_divorced',\n",
              " 'marital_married',\n",
              " 'marital_single',\n",
              " 'marital_unknown',\n",
              " 'education_primary',\n",
              " 'education_secondary',\n",
              " 'education_tertiary',\n",
              " 'education_unknown',\n",
              " 'default_no',\n",
              " 'default_yes',\n",
              " 'housing_loan_no',\n",
              " 'housing_loan_yes',\n",
              " 'personal_loan_no',\n",
              " 'personal_loan_unknown',\n",
              " 'personal_loan_yes',\n",
              " 'communication_type_cellular',\n",
              " 'communication_type_email',\n",
              " 'communication_type_telephone',\n",
              " 'day_of_month_1',\n",
              " 'day_of_month_2',\n",
              " 'day_of_month_3',\n",
              " 'day_of_month_4',\n",
              " 'day_of_month_5',\n",
              " 'day_of_month_6',\n",
              " 'day_of_month_7',\n",
              " 'day_of_month_8',\n",
              " 'day_of_month_9',\n",
              " 'day_of_month_10',\n",
              " 'day_of_month_11',\n",
              " 'day_of_month_12',\n",
              " 'day_of_month_13',\n",
              " 'day_of_month_14',\n",
              " 'day_of_month_15',\n",
              " 'day_of_month_16',\n",
              " 'day_of_month_17',\n",
              " 'day_of_month_18',\n",
              " 'day_of_month_19',\n",
              " 'day_of_month_20',\n",
              " 'day_of_month_21',\n",
              " 'day_of_month_22',\n",
              " 'day_of_month_23',\n",
              " 'day_of_month_24',\n",
              " 'day_of_month_25',\n",
              " 'day_of_month_26',\n",
              " 'day_of_month_27',\n",
              " 'day_of_month_28',\n",
              " 'day_of_month_29',\n",
              " 'day_of_month_30',\n",
              " 'day_of_month_31',\n",
              " 'month_apr',\n",
              " 'month_aug',\n",
              " 'month_dec',\n",
              " 'month_feb',\n",
              " 'month_jan',\n",
              " 'month_jul',\n",
              " 'month_jun',\n",
              " 'month_mar',\n",
              " 'month_may',\n",
              " 'month_nov',\n",
              " 'month_oct',\n",
              " 'month_sep',\n",
              " 'prev_campaign_outcome_failure',\n",
              " 'prev_campaign_outcome_other',\n",
              " 'prev_campaign_outcome_success',\n",
              " 'prev_campaign_outcome_unknown']"
            ]
          },
          "metadata": {
            "tags": []
          },
          "execution_count": 47
        }
      ]
    },
    {
      "cell_type": "code",
      "metadata": {
        "id": "F_oRkZaYc9Rk"
      },
      "source": [
        "Z = test_data[cols]"
      ],
      "execution_count": null,
      "outputs": []
    },
    {
      "cell_type": "code",
      "metadata": {
        "id": "2aV2-auwVYC8"
      },
      "source": [
        "y_pred_testdata = logreg.predict(Z)"
      ],
      "execution_count": null,
      "outputs": []
    },
    {
      "cell_type": "code",
      "metadata": {
        "id": "nyXdN_G3XFHS",
        "colab": {
          "base_uri": "https://localhost:8080/"
        },
        "outputId": "e30034ad-6273-4eba-b73c-44cb1eff3382"
      },
      "source": [
        "print(len(y_pred_testdata))"
      ],
      "execution_count": null,
      "outputs": [
        {
          "output_type": "stream",
          "text": [
            "13564\n"
          ],
          "name": "stdout"
        }
      ]
    },
    {
      "cell_type": "code",
      "metadata": {
        "id": "J3FFZ8RChqAj",
        "colab": {
          "base_uri": "https://localhost:8080/",
          "height": 226
        },
        "outputId": "efde2a0c-0469-48f6-e702-a31361c891c7"
      },
      "source": [
        "final_data['term_deposit_subscribed'] = y_pred_testdata\n",
        "final_data.head()"
      ],
      "execution_count": null,
      "outputs": [
        {
          "output_type": "execute_result",
          "data": {
            "text/html": [
              "<div>\n",
              "<style scoped>\n",
              "    .dataframe tbody tr th:only-of-type {\n",
              "        vertical-align: middle;\n",
              "    }\n",
              "\n",
              "    .dataframe tbody tr th {\n",
              "        vertical-align: top;\n",
              "    }\n",
              "\n",
              "    .dataframe thead th {\n",
              "        text-align: right;\n",
              "    }\n",
              "</style>\n",
              "<table border=\"1\" class=\"dataframe\">\n",
              "  <thead>\n",
              "    <tr style=\"text-align: right;\">\n",
              "      <th></th>\n",
              "      <th>id</th>\n",
              "      <th>customer_age</th>\n",
              "      <th>job_type</th>\n",
              "      <th>marital</th>\n",
              "      <th>education</th>\n",
              "      <th>default</th>\n",
              "      <th>balance</th>\n",
              "      <th>housing_loan</th>\n",
              "      <th>personal_loan</th>\n",
              "      <th>communication_type</th>\n",
              "      <th>day_of_month</th>\n",
              "      <th>month</th>\n",
              "      <th>last_contact_duration</th>\n",
              "      <th>num_contacts_in_campaign</th>\n",
              "      <th>days_since_prev_campaign_contact</th>\n",
              "      <th>num_contacts_prev_campaign</th>\n",
              "      <th>prev_campaign_outcome</th>\n",
              "      <th>spending_score</th>\n",
              "      <th>term_deposit_subscribed</th>\n",
              "    </tr>\n",
              "  </thead>\n",
              "  <tbody>\n",
              "    <tr>\n",
              "      <th>0</th>\n",
              "      <td>id_17231</td>\n",
              "      <td>55.0</td>\n",
              "      <td>retired</td>\n",
              "      <td>married</td>\n",
              "      <td>tertiary</td>\n",
              "      <td>no</td>\n",
              "      <td>7136.0</td>\n",
              "      <td>no</td>\n",
              "      <td>no</td>\n",
              "      <td>cellular</td>\n",
              "      <td>13</td>\n",
              "      <td>aug</td>\n",
              "      <td>90.0</td>\n",
              "      <td>2.0</td>\n",
              "      <td>0.0</td>\n",
              "      <td>0</td>\n",
              "      <td>unknown</td>\n",
              "      <td>87</td>\n",
              "      <td>0</td>\n",
              "    </tr>\n",
              "    <tr>\n",
              "      <th>1</th>\n",
              "      <td>id_34508</td>\n",
              "      <td>24.0</td>\n",
              "      <td>blue-collar</td>\n",
              "      <td>single</td>\n",
              "      <td>secondary</td>\n",
              "      <td>no</td>\n",
              "      <td>179.0</td>\n",
              "      <td>yes</td>\n",
              "      <td>no</td>\n",
              "      <td>cellular</td>\n",
              "      <td>18</td>\n",
              "      <td>may</td>\n",
              "      <td>63.0</td>\n",
              "      <td>2.0</td>\n",
              "      <td>0.0</td>\n",
              "      <td>0</td>\n",
              "      <td>unknown</td>\n",
              "      <td>24</td>\n",
              "      <td>0</td>\n",
              "    </tr>\n",
              "    <tr>\n",
              "      <th>2</th>\n",
              "      <td>id_44504</td>\n",
              "      <td>46.0</td>\n",
              "      <td>technician</td>\n",
              "      <td>divorced</td>\n",
              "      <td>secondary</td>\n",
              "      <td>no</td>\n",
              "      <td>143.0</td>\n",
              "      <td>no</td>\n",
              "      <td>no</td>\n",
              "      <td>cellular</td>\n",
              "      <td>8</td>\n",
              "      <td>jul</td>\n",
              "      <td>208.0</td>\n",
              "      <td>1.0</td>\n",
              "      <td>0.0</td>\n",
              "      <td>0</td>\n",
              "      <td>unknown</td>\n",
              "      <td>73</td>\n",
              "      <td>0</td>\n",
              "    </tr>\n",
              "    <tr>\n",
              "      <th>3</th>\n",
              "      <td>id_174</td>\n",
              "      <td>56.0</td>\n",
              "      <td>housemaid</td>\n",
              "      <td>single</td>\n",
              "      <td>unknown</td>\n",
              "      <td>no</td>\n",
              "      <td>6023.0</td>\n",
              "      <td>no</td>\n",
              "      <td>no</td>\n",
              "      <td>email</td>\n",
              "      <td>6</td>\n",
              "      <td>jun</td>\n",
              "      <td>34.0</td>\n",
              "      <td>1.0</td>\n",
              "      <td>0.0</td>\n",
              "      <td>0</td>\n",
              "      <td>unknown</td>\n",
              "      <td>33</td>\n",
              "      <td>0</td>\n",
              "    </tr>\n",
              "    <tr>\n",
              "      <th>4</th>\n",
              "      <td>id_2115</td>\n",
              "      <td>62.0</td>\n",
              "      <td>retired</td>\n",
              "      <td>married</td>\n",
              "      <td>secondary</td>\n",
              "      <td>no</td>\n",
              "      <td>2913.0</td>\n",
              "      <td>no</td>\n",
              "      <td>no</td>\n",
              "      <td>cellular</td>\n",
              "      <td>12</td>\n",
              "      <td>apr</td>\n",
              "      <td>127.0</td>\n",
              "      <td>1.0</td>\n",
              "      <td>188.0</td>\n",
              "      <td>1</td>\n",
              "      <td>success</td>\n",
              "      <td>98</td>\n",
              "      <td>1</td>\n",
              "    </tr>\n",
              "  </tbody>\n",
              "</table>\n",
              "</div>"
            ],
            "text/plain": [
              "         id  customer_age  ... spending_score term_deposit_subscribed\n",
              "0  id_17231          55.0  ...             87                       0\n",
              "1  id_34508          24.0  ...             24                       0\n",
              "2  id_44504          46.0  ...             73                       0\n",
              "3    id_174          56.0  ...             33                       0\n",
              "4   id_2115          62.0  ...             98                       1\n",
              "\n",
              "[5 rows x 19 columns]"
            ]
          },
          "metadata": {
            "tags": []
          },
          "execution_count": 51
        }
      ]
    },
    {
      "cell_type": "code",
      "metadata": {
        "id": "UHBvZDsPiiEU"
      },
      "source": [
        "result = pd.concat([train,final_data])"
      ],
      "execution_count": null,
      "outputs": []
    },
    {
      "cell_type": "code",
      "metadata": {
        "colab": {
          "base_uri": "https://localhost:8080/",
          "height": 226
        },
        "id": "yy7ekH5GntpC",
        "outputId": "4e6035eb-5e32-4ef9-ce22-86e2e9a0c452"
      },
      "source": [
        "result.head()"
      ],
      "execution_count": null,
      "outputs": [
        {
          "output_type": "execute_result",
          "data": {
            "text/html": [
              "<div>\n",
              "<style scoped>\n",
              "    .dataframe tbody tr th:only-of-type {\n",
              "        vertical-align: middle;\n",
              "    }\n",
              "\n",
              "    .dataframe tbody tr th {\n",
              "        vertical-align: top;\n",
              "    }\n",
              "\n",
              "    .dataframe thead th {\n",
              "        text-align: right;\n",
              "    }\n",
              "</style>\n",
              "<table border=\"1\" class=\"dataframe\">\n",
              "  <thead>\n",
              "    <tr style=\"text-align: right;\">\n",
              "      <th></th>\n",
              "      <th>id</th>\n",
              "      <th>customer_age</th>\n",
              "      <th>job_type</th>\n",
              "      <th>marital</th>\n",
              "      <th>education</th>\n",
              "      <th>default</th>\n",
              "      <th>balance</th>\n",
              "      <th>housing_loan</th>\n",
              "      <th>personal_loan</th>\n",
              "      <th>communication_type</th>\n",
              "      <th>day_of_month</th>\n",
              "      <th>month</th>\n",
              "      <th>last_contact_duration</th>\n",
              "      <th>num_contacts_in_campaign</th>\n",
              "      <th>days_since_prev_campaign_contact</th>\n",
              "      <th>num_contacts_prev_campaign</th>\n",
              "      <th>prev_campaign_outcome</th>\n",
              "      <th>term_deposit_subscribed</th>\n",
              "      <th>spending_score</th>\n",
              "    </tr>\n",
              "  </thead>\n",
              "  <tbody>\n",
              "    <tr>\n",
              "      <th>0</th>\n",
              "      <td>id_43823</td>\n",
              "      <td>28.0</td>\n",
              "      <td>management</td>\n",
              "      <td>single</td>\n",
              "      <td>tertiary</td>\n",
              "      <td>no</td>\n",
              "      <td>285.0</td>\n",
              "      <td>yes</td>\n",
              "      <td>no</td>\n",
              "      <td>email</td>\n",
              "      <td>26</td>\n",
              "      <td>jun</td>\n",
              "      <td>303.0</td>\n",
              "      <td>4.0</td>\n",
              "      <td>0.0</td>\n",
              "      <td>0</td>\n",
              "      <td>unknown</td>\n",
              "      <td>0</td>\n",
              "      <td>17</td>\n",
              "    </tr>\n",
              "    <tr>\n",
              "      <th>1</th>\n",
              "      <td>id_32289</td>\n",
              "      <td>34.0</td>\n",
              "      <td>blue-collar</td>\n",
              "      <td>married</td>\n",
              "      <td>secondary</td>\n",
              "      <td>no</td>\n",
              "      <td>934.0</td>\n",
              "      <td>no</td>\n",
              "      <td>yes</td>\n",
              "      <td>cellular</td>\n",
              "      <td>18</td>\n",
              "      <td>nov</td>\n",
              "      <td>143.0</td>\n",
              "      <td>2.0</td>\n",
              "      <td>132.0</td>\n",
              "      <td>1</td>\n",
              "      <td>other</td>\n",
              "      <td>0</td>\n",
              "      <td>70</td>\n",
              "    </tr>\n",
              "    <tr>\n",
              "      <th>2</th>\n",
              "      <td>id_10523</td>\n",
              "      <td>46.0</td>\n",
              "      <td>technician</td>\n",
              "      <td>married</td>\n",
              "      <td>secondary</td>\n",
              "      <td>no</td>\n",
              "      <td>656.0</td>\n",
              "      <td>no</td>\n",
              "      <td>no</td>\n",
              "      <td>cellular</td>\n",
              "      <td>5</td>\n",
              "      <td>feb</td>\n",
              "      <td>101.0</td>\n",
              "      <td>4.0</td>\n",
              "      <td>0.0</td>\n",
              "      <td>0</td>\n",
              "      <td>unknown</td>\n",
              "      <td>0</td>\n",
              "      <td>65</td>\n",
              "    </tr>\n",
              "    <tr>\n",
              "      <th>3</th>\n",
              "      <td>id_43951</td>\n",
              "      <td>34.0</td>\n",
              "      <td>services</td>\n",
              "      <td>single</td>\n",
              "      <td>secondary</td>\n",
              "      <td>no</td>\n",
              "      <td>2.0</td>\n",
              "      <td>yes</td>\n",
              "      <td>no</td>\n",
              "      <td>email</td>\n",
              "      <td>20</td>\n",
              "      <td>may</td>\n",
              "      <td>127.0</td>\n",
              "      <td>3.0</td>\n",
              "      <td>0.0</td>\n",
              "      <td>0</td>\n",
              "      <td>unknown</td>\n",
              "      <td>0</td>\n",
              "      <td>49</td>\n",
              "    </tr>\n",
              "    <tr>\n",
              "      <th>4</th>\n",
              "      <td>id_40992</td>\n",
              "      <td>41.0</td>\n",
              "      <td>blue-collar</td>\n",
              "      <td>married</td>\n",
              "      <td>primary</td>\n",
              "      <td>no</td>\n",
              "      <td>1352.0</td>\n",
              "      <td>yes</td>\n",
              "      <td>no</td>\n",
              "      <td>cellular</td>\n",
              "      <td>13</td>\n",
              "      <td>may</td>\n",
              "      <td>49.0</td>\n",
              "      <td>2.0</td>\n",
              "      <td>0.0</td>\n",
              "      <td>0</td>\n",
              "      <td>unknown</td>\n",
              "      <td>0</td>\n",
              "      <td>70</td>\n",
              "    </tr>\n",
              "  </tbody>\n",
              "</table>\n",
              "</div>"
            ],
            "text/plain": [
              "         id  customer_age  ... term_deposit_subscribed spending_score\n",
              "0  id_43823          28.0  ...                       0             17\n",
              "1  id_32289          34.0  ...                       0             70\n",
              "2  id_10523          46.0  ...                       0             65\n",
              "3  id_43951          34.0  ...                       0             49\n",
              "4  id_40992          41.0  ...                       0             70\n",
              "\n",
              "[5 rows x 19 columns]"
            ]
          },
          "metadata": {
            "tags": []
          },
          "execution_count": 53
        }
      ]
    },
    {
      "cell_type": "code",
      "metadata": {
        "colab": {
          "base_uri": "https://localhost:8080/"
        },
        "id": "5kAtxmQknvGD",
        "outputId": "57fb01fc-b8b2-4f8e-a835-8c5b3d0635dd"
      },
      "source": [
        "result.shape"
      ],
      "execution_count": null,
      "outputs": [
        {
          "output_type": "execute_result",
          "data": {
            "text/plain": [
              "(45211, 19)"
            ]
          },
          "metadata": {
            "tags": []
          },
          "execution_count": 54
        }
      ]
    },
    {
      "cell_type": "code",
      "metadata": {
        "colab": {
          "base_uri": "https://localhost:8080/"
        },
        "id": "y49otQYAoWqM",
        "outputId": "ecea84a0-9f51-4333-8f21-e8ba63bfe28f"
      },
      "source": [
        "result.info()"
      ],
      "execution_count": null,
      "outputs": [
        {
          "output_type": "stream",
          "text": [
            "<class 'pandas.core.frame.DataFrame'>\n",
            "Int64Index: 45211 entries, 0 to 13563\n",
            "Data columns (total 19 columns):\n",
            " #   Column                            Non-Null Count  Dtype  \n",
            "---  ------                            --------------  -----  \n",
            " 0   id                                45211 non-null  object \n",
            " 1   customer_age                      45211 non-null  float64\n",
            " 2   job_type                          45211 non-null  object \n",
            " 3   marital                           45211 non-null  object \n",
            " 4   education                         45211 non-null  object \n",
            " 5   default                           45211 non-null  object \n",
            " 6   balance                           45211 non-null  float64\n",
            " 7   housing_loan                      45211 non-null  object \n",
            " 8   personal_loan                     45211 non-null  object \n",
            " 9   communication_type                45211 non-null  object \n",
            " 10  day_of_month                      45211 non-null  int64  \n",
            " 11  month                             45211 non-null  object \n",
            " 12  last_contact_duration             45211 non-null  float64\n",
            " 13  num_contacts_in_campaign          45211 non-null  float64\n",
            " 14  days_since_prev_campaign_contact  45211 non-null  float64\n",
            " 15  num_contacts_prev_campaign        45211 non-null  int64  \n",
            " 16  prev_campaign_outcome             45211 non-null  object \n",
            " 17  term_deposit_subscribed           45211 non-null  int64  \n",
            " 18  spending_score                    45211 non-null  int64  \n",
            "dtypes: float64(5), int64(4), object(10)\n",
            "memory usage: 6.9+ MB\n"
          ],
          "name": "stdout"
        }
      ]
    },
    {
      "cell_type": "code",
      "metadata": {
        "id": "574DTjBhojB_"
      },
      "source": [
        "result.to_csv(\"/content/drive/MyDrive/Colab Notebooks/dataset/output/result.csv\",index=False)"
      ],
      "execution_count": null,
      "outputs": []
    },
    {
      "cell_type": "code",
      "metadata": {
        "id": "9Ee0zroArlAR"
      },
      "source": [
        "from sklearn import svm\n",
        "from sklearn.metrics import plot_confusion_matrix\n",
        "from mlxtend.plotting import plot_decision_regions\n",
        "from sklearn.metrics import classification_report, confusion_matrix"
      ],
      "execution_count": null,
      "outputs": []
    },
    {
      "cell_type": "code",
      "metadata": {
        "id": "QMatYsFIZTvN"
      },
      "source": [
        "# Initialize SVM classifier\n",
        "clf = svm.SVC(kernel='linear')"
      ],
      "execution_count": null,
      "outputs": []
    },
    {
      "cell_type": "code",
      "metadata": {
        "id": "kax1kd3XZcGC"
      },
      "source": [
        "# Fit data\n",
        "clf = clf.fit(X_train, y_train)"
      ],
      "execution_count": null,
      "outputs": []
    },
    {
      "cell_type": "code",
      "metadata": {
        "id": "Rjula6_CZf3d"
      },
      "source": [
        "# Predict the test set\n",
        "predictions = clf.predict(X_test)"
      ],
      "execution_count": null,
      "outputs": []
    },
    {
      "cell_type": "code",
      "metadata": {
        "colab": {
          "base_uri": "https://localhost:8080/"
        },
        "id": "W5NbCt8eoqS8",
        "outputId": "9cec78db-2101-4280-ef80-b87877ceea18"
      },
      "source": [
        "# Generate confusion matrix\n",
        "print(confusion_matrix(y_test,y_pred))\n",
        "print(classification_report(y_test,y_pred))"
      ],
      "execution_count": null,
      "outputs": [
        {
          "output_type": "stream",
          "text": [
            "[[8345  113]\n",
            " [ 823  214]]\n",
            "              precision    recall  f1-score   support\n",
            "\n",
            "           0       0.91      0.99      0.95      8458\n",
            "           1       0.65      0.21      0.31      1037\n",
            "\n",
            "    accuracy                           0.90      9495\n",
            "   macro avg       0.78      0.60      0.63      9495\n",
            "weighted avg       0.88      0.90      0.88      9495\n",
            "\n"
          ],
          "name": "stdout"
        }
      ]
    },
    {
      "cell_type": "code",
      "metadata": {
        "id": "hsFR6KoycYt8"
      },
      "source": [
        "y_pred_testdata_svm = clf.predict(Z)"
      ],
      "execution_count": 59,
      "outputs": []
    },
    {
      "cell_type": "code",
      "metadata": {
        "colab": {
          "base_uri": "https://localhost:8080/"
        },
        "id": "PW-BkxgHccsV",
        "outputId": "acedf06b-9b0d-442d-9df6-48412f604824"
      },
      "source": [
        "y_pred_testdata_svm"
      ],
      "execution_count": 60,
      "outputs": [
        {
          "output_type": "execute_result",
          "data": {
            "text/plain": [
              "array([0, 0, 0, ..., 0, 0, 0])"
            ]
          },
          "metadata": {
            "tags": []
          },
          "execution_count": 60
        }
      ]
    },
    {
      "cell_type": "code",
      "metadata": {
        "colab": {
          "base_uri": "https://localhost:8080/"
        },
        "id": "PeGAgSvfcfhG",
        "outputId": "21036a52-3366-416d-fbbf-17c70bd2dc77"
      },
      "source": [
        "np.corrcoef(y_pred_testdata,y_pred_testdata_svm)"
      ],
      "execution_count": 62,
      "outputs": [
        {
          "output_type": "execute_result",
          "data": {
            "text/plain": [
              "array([[1.        , 0.89996881],\n",
              "       [0.89996881, 1.        ]])"
            ]
          },
          "metadata": {
            "tags": []
          },
          "execution_count": 62
        }
      ]
    },
    {
      "cell_type": "code",
      "metadata": {
        "id": "UGwD0UHScmQ0"
      },
      "source": [
        ""
      ],
      "execution_count": null,
      "outputs": []
    }
  ]
}