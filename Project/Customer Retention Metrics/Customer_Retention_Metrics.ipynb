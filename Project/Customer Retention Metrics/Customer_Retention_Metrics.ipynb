{
  "nbformat": 4,
  "nbformat_minor": 0,
  "metadata": {
    "colab": {
      "name": "Customer_Retention_Metrics.ipynb",
      "provenance": []
    },
    "kernelspec": {
      "name": "python3",
      "display_name": "Python 3"
    },
    "language_info": {
      "name": "python"
    }
  },
  "cells": [
    {
      "cell_type": "markdown",
      "metadata": {
        "id": "-DKWsUr98_ss"
      },
      "source": [
        "# Customer Retention Metrics \n",
        "\n",
        "Customer retention measurement refers to the steps taken to uncover and document how well a business is retaining customers.Organizations track success in this area to see how well they are meeting customer needs and if they are continuing to earn their business over time. \n",
        "\n",
        "Here in this section we will look at some of the customer retention metrics applicable to retaining their customers from previous campaigns and we will compare between them.\n"
      ]
    },
    {
      "cell_type": "code",
      "metadata": {
        "colab": {
          "base_uri": "https://localhost:8080/"
        },
        "id": "4YRuMrQrP0Dp",
        "outputId": "af740a53-c17e-4458-82ce-cf5aa4d00bb8"
      },
      "source": [
        "from google.colab import drive\n",
        "drive.mount('/content/drive')"
      ],
      "execution_count": 1,
      "outputs": [
        {
          "output_type": "stream",
          "text": [
            "Mounted at /content/drive\n"
          ],
          "name": "stdout"
        }
      ]
    },
    {
      "cell_type": "code",
      "metadata": {
        "id": "BC_yxV-FPkkm"
      },
      "source": [
        "from __future__ import division\n",
        "from sklearn.cluster import KMeans\n",
        "# import libraries\n",
        "from datetime import datetime, timedelta\n",
        "import pandas as pd\n",
        "%matplotlib inline\n",
        "import matplotlib.pyplot as plt\n",
        "import numpy as np\n",
        "import seaborn as sns\n",
        "\n",
        "import warnings\n",
        "\n",
        "warnings.filterwarnings(\"ignore\")"
      ],
      "execution_count": 2,
      "outputs": []
    },
    {
      "cell_type": "code",
      "metadata": {
        "id": "0BMP45j0Pgrq"
      },
      "source": [
        "data=pd.read_csv(\"/content/drive/MyDrive/Colab Notebooks/dataset/output/segmentation_data.csv\")"
      ],
      "execution_count": 3,
      "outputs": []
    },
    {
      "cell_type": "code",
      "metadata": {
        "colab": {
          "base_uri": "https://localhost:8080/",
          "height": 226
        },
        "id": "0jGUblyeQKzi",
        "outputId": "fac1b452-48ff-4b2b-c826-3bcc0ed25326"
      },
      "source": [
        "data.head()"
      ],
      "execution_count": 4,
      "outputs": [
        {
          "output_type": "execute_result",
          "data": {
            "text/html": [
              "<div>\n",
              "<style scoped>\n",
              "    .dataframe tbody tr th:only-of-type {\n",
              "        vertical-align: middle;\n",
              "    }\n",
              "\n",
              "    .dataframe tbody tr th {\n",
              "        vertical-align: top;\n",
              "    }\n",
              "\n",
              "    .dataframe thead th {\n",
              "        text-align: right;\n",
              "    }\n",
              "</style>\n",
              "<table border=\"1\" class=\"dataframe\">\n",
              "  <thead>\n",
              "    <tr style=\"text-align: right;\">\n",
              "      <th></th>\n",
              "      <th>id</th>\n",
              "      <th>customer_age</th>\n",
              "      <th>job_type</th>\n",
              "      <th>marital</th>\n",
              "      <th>education</th>\n",
              "      <th>default</th>\n",
              "      <th>balance</th>\n",
              "      <th>housing_loan</th>\n",
              "      <th>personal_loan</th>\n",
              "      <th>communication_type</th>\n",
              "      <th>day_of_month</th>\n",
              "      <th>month</th>\n",
              "      <th>last_contact_duration</th>\n",
              "      <th>num_contacts_in_campaign</th>\n",
              "      <th>days_since_prev_campaign_contact</th>\n",
              "      <th>num_contacts_prev_campaign</th>\n",
              "      <th>prev_campaign_outcome</th>\n",
              "      <th>term_deposit_subscribed</th>\n",
              "      <th>spending_score</th>\n",
              "      <th>BalanceCluster</th>\n",
              "      <th>AgeCluster</th>\n",
              "      <th>SpendingCluster</th>\n",
              "      <th>OverallScore</th>\n",
              "    </tr>\n",
              "  </thead>\n",
              "  <tbody>\n",
              "    <tr>\n",
              "      <th>0</th>\n",
              "      <td>id_43823</td>\n",
              "      <td>28.0</td>\n",
              "      <td>management</td>\n",
              "      <td>single</td>\n",
              "      <td>tertiary</td>\n",
              "      <td>no</td>\n",
              "      <td>285.0</td>\n",
              "      <td>yes</td>\n",
              "      <td>no</td>\n",
              "      <td>email</td>\n",
              "      <td>26</td>\n",
              "      <td>jun</td>\n",
              "      <td>303.0</td>\n",
              "      <td>4.0</td>\n",
              "      <td>0.0</td>\n",
              "      <td>0</td>\n",
              "      <td>unknown</td>\n",
              "      <td>0</td>\n",
              "      <td>17</td>\n",
              "      <td>0</td>\n",
              "      <td>1</td>\n",
              "      <td>0</td>\n",
              "      <td>1</td>\n",
              "    </tr>\n",
              "    <tr>\n",
              "      <th>1</th>\n",
              "      <td>id_34750</td>\n",
              "      <td>29.0</td>\n",
              "      <td>technician</td>\n",
              "      <td>married</td>\n",
              "      <td>secondary</td>\n",
              "      <td>no</td>\n",
              "      <td>265.0</td>\n",
              "      <td>yes</td>\n",
              "      <td>no</td>\n",
              "      <td>cellular</td>\n",
              "      <td>19</td>\n",
              "      <td>aug</td>\n",
              "      <td>160.0</td>\n",
              "      <td>2.0</td>\n",
              "      <td>0.0</td>\n",
              "      <td>0</td>\n",
              "      <td>unknown</td>\n",
              "      <td>0</td>\n",
              "      <td>25</td>\n",
              "      <td>0</td>\n",
              "      <td>1</td>\n",
              "      <td>0</td>\n",
              "      <td>1</td>\n",
              "    </tr>\n",
              "    <tr>\n",
              "      <th>2</th>\n",
              "      <td>id_36237</td>\n",
              "      <td>18.0</td>\n",
              "      <td>blue-collar</td>\n",
              "      <td>single</td>\n",
              "      <td>secondary</td>\n",
              "      <td>no</td>\n",
              "      <td>420.0</td>\n",
              "      <td>yes</td>\n",
              "      <td>no</td>\n",
              "      <td>cellular</td>\n",
              "      <td>16</td>\n",
              "      <td>apr</td>\n",
              "      <td>478.0</td>\n",
              "      <td>1.0</td>\n",
              "      <td>0.0</td>\n",
              "      <td>0</td>\n",
              "      <td>unknown</td>\n",
              "      <td>1</td>\n",
              "      <td>29</td>\n",
              "      <td>0</td>\n",
              "      <td>1</td>\n",
              "      <td>0</td>\n",
              "      <td>1</td>\n",
              "    </tr>\n",
              "    <tr>\n",
              "      <th>3</th>\n",
              "      <td>id_15826</td>\n",
              "      <td>31.0</td>\n",
              "      <td>management</td>\n",
              "      <td>single</td>\n",
              "      <td>tertiary</td>\n",
              "      <td>no</td>\n",
              "      <td>3.0</td>\n",
              "      <td>yes</td>\n",
              "      <td>no</td>\n",
              "      <td>email</td>\n",
              "      <td>9</td>\n",
              "      <td>may</td>\n",
              "      <td>80.0</td>\n",
              "      <td>3.0</td>\n",
              "      <td>0.0</td>\n",
              "      <td>0</td>\n",
              "      <td>unknown</td>\n",
              "      <td>0</td>\n",
              "      <td>23</td>\n",
              "      <td>0</td>\n",
              "      <td>1</td>\n",
              "      <td>0</td>\n",
              "      <td>1</td>\n",
              "    </tr>\n",
              "    <tr>\n",
              "      <th>4</th>\n",
              "      <td>id_9411</td>\n",
              "      <td>34.0</td>\n",
              "      <td>services</td>\n",
              "      <td>single</td>\n",
              "      <td>secondary</td>\n",
              "      <td>no</td>\n",
              "      <td>1038.0</td>\n",
              "      <td>no</td>\n",
              "      <td>yes</td>\n",
              "      <td>email</td>\n",
              "      <td>3</td>\n",
              "      <td>jul</td>\n",
              "      <td>89.0</td>\n",
              "      <td>1.0</td>\n",
              "      <td>0.0</td>\n",
              "      <td>0</td>\n",
              "      <td>unknown</td>\n",
              "      <td>0</td>\n",
              "      <td>37</td>\n",
              "      <td>0</td>\n",
              "      <td>1</td>\n",
              "      <td>0</td>\n",
              "      <td>1</td>\n",
              "    </tr>\n",
              "  </tbody>\n",
              "</table>\n",
              "</div>"
            ],
            "text/plain": [
              "         id  customer_age  ... SpendingCluster OverallScore\n",
              "0  id_43823          28.0  ...               0            1\n",
              "1  id_34750          29.0  ...               0            1\n",
              "2  id_36237          18.0  ...               0            1\n",
              "3  id_15826          31.0  ...               0            1\n",
              "4   id_9411          34.0  ...               0            1\n",
              "\n",
              "[5 rows x 23 columns]"
            ]
          },
          "metadata": {
            "tags": []
          },
          "execution_count": 4
        }
      ]
    },
    {
      "cell_type": "code",
      "metadata": {
        "colab": {
          "base_uri": "https://localhost:8080/"
        },
        "id": "QQ6afKnCP_24",
        "outputId": "379e797f-f531-48d7-99e8-474db80d2a29"
      },
      "source": [
        "data.info()"
      ],
      "execution_count": 5,
      "outputs": [
        {
          "output_type": "stream",
          "text": [
            "<class 'pandas.core.frame.DataFrame'>\n",
            "RangeIndex: 45211 entries, 0 to 45210\n",
            "Data columns (total 23 columns):\n",
            " #   Column                            Non-Null Count  Dtype  \n",
            "---  ------                            --------------  -----  \n",
            " 0   id                                45211 non-null  object \n",
            " 1   customer_age                      45211 non-null  float64\n",
            " 2   job_type                          45211 non-null  object \n",
            " 3   marital                           45211 non-null  object \n",
            " 4   education                         45211 non-null  object \n",
            " 5   default                           45211 non-null  object \n",
            " 6   balance                           45211 non-null  float64\n",
            " 7   housing_loan                      45211 non-null  object \n",
            " 8   personal_loan                     45211 non-null  object \n",
            " 9   communication_type                45211 non-null  object \n",
            " 10  day_of_month                      45211 non-null  int64  \n",
            " 11  month                             45211 non-null  object \n",
            " 12  last_contact_duration             45211 non-null  float64\n",
            " 13  num_contacts_in_campaign          45211 non-null  float64\n",
            " 14  days_since_prev_campaign_contact  45211 non-null  float64\n",
            " 15  num_contacts_prev_campaign        45211 non-null  int64  \n",
            " 16  prev_campaign_outcome             45211 non-null  object \n",
            " 17  term_deposit_subscribed           45211 non-null  int64  \n",
            " 18  spending_score                    45211 non-null  int64  \n",
            " 19  BalanceCluster                    45211 non-null  int64  \n",
            " 20  AgeCluster                        45211 non-null  int64  \n",
            " 21  SpendingCluster                   45211 non-null  int64  \n",
            " 22  OverallScore                      45211 non-null  int64  \n",
            "dtypes: float64(5), int64(8), object(10)\n",
            "memory usage: 7.9+ MB\n"
          ],
          "name": "stdout"
        }
      ]
    },
    {
      "cell_type": "markdown",
      "metadata": {
        "id": "WF1OnBHqAOT3"
      },
      "source": [
        "\n",
        "# Customer Churn and Retention Rate Between Two Campaigns \n",
        "Perhaps the most straightforward of customer retention metrics, your company's customer churn rate refers to the rate at which customers stop doing business with you. Whether the customer has ended or opted out of renewing a subscription, a churned customer is a customer that your business unsuccessfully retained.\n",
        "\n",
        "Retention rate is the ratio of customers that return to do business at your company. This differs from churn rate because churn rate refers to the number of customers you've lost over a period of time. A company with a high churn rate would by default, have a lower retention rate. \n",
        "\n",
        "> **Customer Retention Rate** =  Total Customers from Campaign Subscribed / Total Customers Sent Communication\n",
        "\n",
        "> **Customer Churn Rate** = 1 - Customer Retention Rate\n"
      ]
    },
    {
      "cell_type": "code",
      "metadata": {
        "colab": {
          "base_uri": "https://localhost:8080/"
        },
        "id": "685Hushok-Ox",
        "outputId": "a9e04415-1a53-4d1f-8bb5-7815b16c4a8e"
      },
      "source": [
        "previous_campaign = data['prev_campaign_outcome'].value_counts()\n",
        "previous_campaign"
      ],
      "execution_count": 6,
      "outputs": [
        {
          "output_type": "execute_result",
          "data": {
            "text/plain": [
              "unknown    36959\n",
              "failure     4901\n",
              "other       1840\n",
              "success     1511\n",
              "Name: prev_campaign_outcome, dtype: int64"
            ]
          },
          "metadata": {
            "tags": []
          },
          "execution_count": 6
        }
      ]
    },
    {
      "cell_type": "code",
      "metadata": {
        "colab": {
          "base_uri": "https://localhost:8080/"
        },
        "id": "KGPBPEizlD4C",
        "outputId": "a09800cb-758e-47c2-e414-02e1c41ef14c"
      },
      "source": [
        "total_count = data['prev_campaign_outcome'].count()\n",
        "total_count"
      ],
      "execution_count": 7,
      "outputs": [
        {
          "output_type": "execute_result",
          "data": {
            "text/plain": [
              "45211"
            ]
          },
          "metadata": {
            "tags": []
          },
          "execution_count": 7
        }
      ]
    },
    {
      "cell_type": "code",
      "metadata": {
        "colab": {
          "base_uri": "https://localhost:8080/"
        },
        "id": "ntIk8YwGzGMA",
        "outputId": "da0674a7-c2c7-496a-b8e6-a514595c1553"
      },
      "source": [
        "current_campaign = data['term_deposit_subscribed'].value_counts()\n",
        "current_campaign"
      ],
      "execution_count": 8,
      "outputs": [
        {
          "output_type": "execute_result",
          "data": {
            "text/plain": [
              "0    41392\n",
              "1     3819\n",
              "Name: term_deposit_subscribed, dtype: int64"
            ]
          },
          "metadata": {
            "tags": []
          },
          "execution_count": 8
        }
      ]
    },
    {
      "cell_type": "code",
      "metadata": {
        "colab": {
          "base_uri": "https://localhost:8080/"
        },
        "id": "OmdAmK0ezGBO",
        "outputId": "bd817179-6c36-4557-f097-a07d2667f57d"
      },
      "source": [
        "Retention_prev_camp = previous_campaign['success']*1.0/total_count\n",
        "Retention_prev_camp"
      ],
      "execution_count": 9,
      "outputs": [
        {
          "output_type": "execute_result",
          "data": {
            "text/plain": [
              "0.0334210700935613"
            ]
          },
          "metadata": {
            "tags": []
          },
          "execution_count": 9
        }
      ]
    },
    {
      "cell_type": "code",
      "metadata": {
        "colab": {
          "base_uri": "https://localhost:8080/"
        },
        "id": "PMOtW15GlD1R",
        "outputId": "abd965dd-569b-4f60-f4d9-a182a04155ba"
      },
      "source": [
        "Retention_cur_camp = current_campaign[1]*1.0/total_count\n",
        "Retention_cur_camp"
      ],
      "execution_count": 10,
      "outputs": [
        {
          "output_type": "execute_result",
          "data": {
            "text/plain": [
              "0.08447059343964965"
            ]
          },
          "metadata": {
            "tags": []
          },
          "execution_count": 10
        }
      ]
    },
    {
      "cell_type": "markdown",
      "metadata": {
        "id": "KkWu7JYr9kOj"
      },
      "source": [
        "\n",
        "# **Loyal Customer Rate**\n",
        "Loyal customer rate simply refers to the number of customers who have made a repeat subscription between campaigns. Since your most loyal customers subscribe from you the most, this metric identifies the percentage of your customer base that's demonstrated loyalty to your business. \n",
        "\n",
        "It's important to know how many loyal customers you have because these people are the most valuable members of your customer base. That's because they not only drive the most sales, but they're also the most likely to share positive word-of-mouth about your business. By knowing who these loyal customers are, you can capitalize on opportunities to gather testimonials and encourage customer advocacy. \n",
        "\n",
        "> **Loyal Customer Rate = Number of Repeat Customers / Total Customers**\n",
        "\n"
      ]
    },
    {
      "cell_type": "code",
      "metadata": {
        "colab": {
          "base_uri": "https://localhost:8080/",
          "height": 224
        },
        "id": "Uv28taG73x8T",
        "outputId": "aa0c919a-3bd3-41a7-fd22-ffa21c192840"
      },
      "source": [
        "data.term_deposit_subscribed = data.term_deposit_subscribed.replace([0],'failure')\n",
        "data.term_deposit_subscribed = data.term_deposit_subscribed.replace([1],'success')\n",
        "data.groupby('term_deposit_subscribed').describe()"
      ],
      "execution_count": 11,
      "outputs": [
        {
          "output_type": "execute_result",
          "data": {
            "text/html": [
              "<div>\n",
              "<style scoped>\n",
              "    .dataframe tbody tr th:only-of-type {\n",
              "        vertical-align: middle;\n",
              "    }\n",
              "\n",
              "    .dataframe tbody tr th {\n",
              "        vertical-align: top;\n",
              "    }\n",
              "\n",
              "    .dataframe thead tr th {\n",
              "        text-align: left;\n",
              "    }\n",
              "\n",
              "    .dataframe thead tr:last-of-type th {\n",
              "        text-align: right;\n",
              "    }\n",
              "</style>\n",
              "<table border=\"1\" class=\"dataframe\">\n",
              "  <thead>\n",
              "    <tr>\n",
              "      <th></th>\n",
              "      <th colspan=\"8\" halign=\"left\">customer_age</th>\n",
              "      <th colspan=\"8\" halign=\"left\">balance</th>\n",
              "      <th colspan=\"8\" halign=\"left\">day_of_month</th>\n",
              "      <th colspan=\"8\" halign=\"left\">last_contact_duration</th>\n",
              "      <th colspan=\"8\" halign=\"left\">num_contacts_in_campaign</th>\n",
              "      <th>...</th>\n",
              "      <th colspan=\"8\" halign=\"left\">spending_score</th>\n",
              "      <th colspan=\"8\" halign=\"left\">BalanceCluster</th>\n",
              "      <th colspan=\"8\" halign=\"left\">AgeCluster</th>\n",
              "      <th colspan=\"8\" halign=\"left\">SpendingCluster</th>\n",
              "      <th colspan=\"8\" halign=\"left\">OverallScore</th>\n",
              "    </tr>\n",
              "    <tr>\n",
              "      <th></th>\n",
              "      <th>count</th>\n",
              "      <th>mean</th>\n",
              "      <th>std</th>\n",
              "      <th>min</th>\n",
              "      <th>25%</th>\n",
              "      <th>50%</th>\n",
              "      <th>75%</th>\n",
              "      <th>max</th>\n",
              "      <th>count</th>\n",
              "      <th>mean</th>\n",
              "      <th>std</th>\n",
              "      <th>min</th>\n",
              "      <th>25%</th>\n",
              "      <th>50%</th>\n",
              "      <th>75%</th>\n",
              "      <th>max</th>\n",
              "      <th>count</th>\n",
              "      <th>mean</th>\n",
              "      <th>std</th>\n",
              "      <th>min</th>\n",
              "      <th>25%</th>\n",
              "      <th>50%</th>\n",
              "      <th>75%</th>\n",
              "      <th>max</th>\n",
              "      <th>count</th>\n",
              "      <th>mean</th>\n",
              "      <th>std</th>\n",
              "      <th>min</th>\n",
              "      <th>25%</th>\n",
              "      <th>50%</th>\n",
              "      <th>75%</th>\n",
              "      <th>max</th>\n",
              "      <th>count</th>\n",
              "      <th>mean</th>\n",
              "      <th>std</th>\n",
              "      <th>min</th>\n",
              "      <th>25%</th>\n",
              "      <th>50%</th>\n",
              "      <th>75%</th>\n",
              "      <th>max</th>\n",
              "      <th>...</th>\n",
              "      <th>count</th>\n",
              "      <th>mean</th>\n",
              "      <th>std</th>\n",
              "      <th>min</th>\n",
              "      <th>25%</th>\n",
              "      <th>50%</th>\n",
              "      <th>75%</th>\n",
              "      <th>max</th>\n",
              "      <th>count</th>\n",
              "      <th>mean</th>\n",
              "      <th>std</th>\n",
              "      <th>min</th>\n",
              "      <th>25%</th>\n",
              "      <th>50%</th>\n",
              "      <th>75%</th>\n",
              "      <th>max</th>\n",
              "      <th>count</th>\n",
              "      <th>mean</th>\n",
              "      <th>std</th>\n",
              "      <th>min</th>\n",
              "      <th>25%</th>\n",
              "      <th>50%</th>\n",
              "      <th>75%</th>\n",
              "      <th>max</th>\n",
              "      <th>count</th>\n",
              "      <th>mean</th>\n",
              "      <th>std</th>\n",
              "      <th>min</th>\n",
              "      <th>25%</th>\n",
              "      <th>50%</th>\n",
              "      <th>75%</th>\n",
              "      <th>max</th>\n",
              "      <th>count</th>\n",
              "      <th>mean</th>\n",
              "      <th>std</th>\n",
              "      <th>min</th>\n",
              "      <th>25%</th>\n",
              "      <th>50%</th>\n",
              "      <th>75%</th>\n",
              "      <th>max</th>\n",
              "    </tr>\n",
              "    <tr>\n",
              "      <th>term_deposit_subscribed</th>\n",
              "      <th></th>\n",
              "      <th></th>\n",
              "      <th></th>\n",
              "      <th></th>\n",
              "      <th></th>\n",
              "      <th></th>\n",
              "      <th></th>\n",
              "      <th></th>\n",
              "      <th></th>\n",
              "      <th></th>\n",
              "      <th></th>\n",
              "      <th></th>\n",
              "      <th></th>\n",
              "      <th></th>\n",
              "      <th></th>\n",
              "      <th></th>\n",
              "      <th></th>\n",
              "      <th></th>\n",
              "      <th></th>\n",
              "      <th></th>\n",
              "      <th></th>\n",
              "      <th></th>\n",
              "      <th></th>\n",
              "      <th></th>\n",
              "      <th></th>\n",
              "      <th></th>\n",
              "      <th></th>\n",
              "      <th></th>\n",
              "      <th></th>\n",
              "      <th></th>\n",
              "      <th></th>\n",
              "      <th></th>\n",
              "      <th></th>\n",
              "      <th></th>\n",
              "      <th></th>\n",
              "      <th></th>\n",
              "      <th></th>\n",
              "      <th></th>\n",
              "      <th></th>\n",
              "      <th></th>\n",
              "      <th></th>\n",
              "      <th></th>\n",
              "      <th></th>\n",
              "      <th></th>\n",
              "      <th></th>\n",
              "      <th></th>\n",
              "      <th></th>\n",
              "      <th></th>\n",
              "      <th></th>\n",
              "      <th></th>\n",
              "      <th></th>\n",
              "      <th></th>\n",
              "      <th></th>\n",
              "      <th></th>\n",
              "      <th></th>\n",
              "      <th></th>\n",
              "      <th></th>\n",
              "      <th></th>\n",
              "      <th></th>\n",
              "      <th></th>\n",
              "      <th></th>\n",
              "      <th></th>\n",
              "      <th></th>\n",
              "      <th></th>\n",
              "      <th></th>\n",
              "      <th></th>\n",
              "      <th></th>\n",
              "      <th></th>\n",
              "      <th></th>\n",
              "      <th></th>\n",
              "      <th></th>\n",
              "      <th></th>\n",
              "      <th></th>\n",
              "      <th></th>\n",
              "      <th></th>\n",
              "      <th></th>\n",
              "      <th></th>\n",
              "      <th></th>\n",
              "      <th></th>\n",
              "      <th></th>\n",
              "      <th></th>\n",
              "    </tr>\n",
              "  </thead>\n",
              "  <tbody>\n",
              "    <tr>\n",
              "      <th>failure</th>\n",
              "      <td>41392.0</td>\n",
              "      <td>39.533219</td>\n",
              "      <td>11.732278</td>\n",
              "      <td>0.0</td>\n",
              "      <td>32.0</td>\n",
              "      <td>38.0</td>\n",
              "      <td>48.0</td>\n",
              "      <td>95.0</td>\n",
              "      <td>41392.0</td>\n",
              "      <td>1298.969463</td>\n",
              "      <td>2955.296015</td>\n",
              "      <td>-8020.0</td>\n",
              "      <td>50.0</td>\n",
              "      <td>411.0</td>\n",
              "      <td>1344.0</td>\n",
              "      <td>102128.0</td>\n",
              "      <td>41392.0</td>\n",
              "      <td>15.866206</td>\n",
              "      <td>8.293027</td>\n",
              "      <td>1.0</td>\n",
              "      <td>8.0</td>\n",
              "      <td>16.0</td>\n",
              "      <td>21.0</td>\n",
              "      <td>31.0</td>\n",
              "      <td>41392.0</td>\n",
              "      <td>229.746110</td>\n",
              "      <td>224.812588</td>\n",
              "      <td>0.0</td>\n",
              "      <td>95.0</td>\n",
              "      <td>167.0</td>\n",
              "      <td>289.0</td>\n",
              "      <td>4900.0</td>\n",
              "      <td>41392.0</td>\n",
              "      <td>2.815037</td>\n",
              "      <td>3.174752</td>\n",
              "      <td>0.0</td>\n",
              "      <td>1.0</td>\n",
              "      <td>2.0</td>\n",
              "      <td>3.0</td>\n",
              "      <td>63.0</td>\n",
              "      <td>...</td>\n",
              "      <td>41392.0</td>\n",
              "      <td>53.199024</td>\n",
              "      <td>26.934397</td>\n",
              "      <td>7.0</td>\n",
              "      <td>30.0</td>\n",
              "      <td>53.0</td>\n",
              "      <td>76.0</td>\n",
              "      <td>99.0</td>\n",
              "      <td>41392.0</td>\n",
              "      <td>0.154788</td>\n",
              "      <td>0.412568</td>\n",
              "      <td>0.0</td>\n",
              "      <td>0.0</td>\n",
              "      <td>0.0</td>\n",
              "      <td>0.0</td>\n",
              "      <td>3.0</td>\n",
              "      <td>41392.0</td>\n",
              "      <td>1.356059</td>\n",
              "      <td>0.518750</td>\n",
              "      <td>0.0</td>\n",
              "      <td>1.0</td>\n",
              "      <td>1.0</td>\n",
              "      <td>2.0</td>\n",
              "      <td>2.0</td>\n",
              "      <td>41392.0</td>\n",
              "      <td>1.004856</td>\n",
              "      <td>0.817827</td>\n",
              "      <td>0.0</td>\n",
              "      <td>0.0</td>\n",
              "      <td>1.0</td>\n",
              "      <td>2.0</td>\n",
              "      <td>2.0</td>\n",
              "      <td>41392.0</td>\n",
              "      <td>2.515704</td>\n",
              "      <td>1.062014</td>\n",
              "      <td>0.0</td>\n",
              "      <td>2.0</td>\n",
              "      <td>3.0</td>\n",
              "      <td>3.0</td>\n",
              "      <td>7.0</td>\n",
              "    </tr>\n",
              "    <tr>\n",
              "      <th>success</th>\n",
              "      <td>3819.0</td>\n",
              "      <td>40.884263</td>\n",
              "      <td>14.866358</td>\n",
              "      <td>0.0</td>\n",
              "      <td>31.0</td>\n",
              "      <td>38.0</td>\n",
              "      <td>50.5</td>\n",
              "      <td>97.0</td>\n",
              "      <td>3819.0</td>\n",
              "      <td>1816.147944</td>\n",
              "      <td>3394.391686</td>\n",
              "      <td>-3060.0</td>\n",
              "      <td>223.5</td>\n",
              "      <td>764.0</td>\n",
              "      <td>2206.5</td>\n",
              "      <td>81208.0</td>\n",
              "      <td>3819.0</td>\n",
              "      <td>15.158418</td>\n",
              "      <td>8.609738</td>\n",
              "      <td>1.0</td>\n",
              "      <td>8.0</td>\n",
              "      <td>15.0</td>\n",
              "      <td>22.0</td>\n",
              "      <td>31.0</td>\n",
              "      <td>3819.0</td>\n",
              "      <td>531.236711</td>\n",
              "      <td>393.915944</td>\n",
              "      <td>0.0</td>\n",
              "      <td>237.0</td>\n",
              "      <td>417.0</td>\n",
              "      <td>719.0</td>\n",
              "      <td>3267.0</td>\n",
              "      <td>3819.0</td>\n",
              "      <td>2.084577</td>\n",
              "      <td>1.821506</td>\n",
              "      <td>0.0</td>\n",
              "      <td>1.0</td>\n",
              "      <td>2.0</td>\n",
              "      <td>2.0</td>\n",
              "      <td>24.0</td>\n",
              "      <td>...</td>\n",
              "      <td>3819.0</td>\n",
              "      <td>53.379419</td>\n",
              "      <td>26.969762</td>\n",
              "      <td>7.0</td>\n",
              "      <td>30.0</td>\n",
              "      <td>54.0</td>\n",
              "      <td>77.0</td>\n",
              "      <td>99.0</td>\n",
              "      <td>3819.0</td>\n",
              "      <td>0.232260</td>\n",
              "      <td>0.484161</td>\n",
              "      <td>0.0</td>\n",
              "      <td>0.0</td>\n",
              "      <td>0.0</td>\n",
              "      <td>0.0</td>\n",
              "      <td>3.0</td>\n",
              "      <td>3819.0</td>\n",
              "      <td>1.378109</td>\n",
              "      <td>0.518896</td>\n",
              "      <td>0.0</td>\n",
              "      <td>1.0</td>\n",
              "      <td>1.0</td>\n",
              "      <td>2.0</td>\n",
              "      <td>2.0</td>\n",
              "      <td>3819.0</td>\n",
              "      <td>1.007855</td>\n",
              "      <td>0.819128</td>\n",
              "      <td>0.0</td>\n",
              "      <td>0.0</td>\n",
              "      <td>1.0</td>\n",
              "      <td>2.0</td>\n",
              "      <td>2.0</td>\n",
              "      <td>3819.0</td>\n",
              "      <td>2.618225</td>\n",
              "      <td>1.102568</td>\n",
              "      <td>0.0</td>\n",
              "      <td>2.0</td>\n",
              "      <td>3.0</td>\n",
              "      <td>3.0</td>\n",
              "      <td>7.0</td>\n",
              "    </tr>\n",
              "  </tbody>\n",
              "</table>\n",
              "<p>2 rows × 96 columns</p>\n",
              "</div>"
            ],
            "text/plain": [
              "                        customer_age                        ... OverallScore          \n",
              "                               count       mean        std  ...          50%  75%  max\n",
              "term_deposit_subscribed                                     ...                       \n",
              "failure                      41392.0  39.533219  11.732278  ...          3.0  3.0  7.0\n",
              "success                       3819.0  40.884263  14.866358  ...          3.0  3.0  7.0\n",
              "\n",
              "[2 rows x 96 columns]"
            ]
          },
          "metadata": {
            "tags": []
          },
          "execution_count": 11
        }
      ]
    },
    {
      "cell_type": "code",
      "metadata": {
        "id": "Thlxp0wi3k_x"
      },
      "source": [
        "c=0\n",
        "prev = data['prev_campaign_outcome']\n",
        "cur = data['term_deposit_subscribed']\n",
        "for x,y in zip(prev, cur):\n",
        "  if(x==y):\n",
        "    c+=1"
      ],
      "execution_count": 12,
      "outputs": []
    },
    {
      "cell_type": "code",
      "metadata": {
        "colab": {
          "base_uri": "https://localhost:8080/"
        },
        "id": "lmQfav3x8oLo",
        "outputId": "aad8f994-808c-4f96-f4eb-4c7e00c77514"
      },
      "source": [
        "new_customers = ((previous_campaign['success'] + current_campaign[0] - c)*1.0)/total_count\n",
        "new_customers"
      ],
      "execution_count": 13,
      "outputs": [
        {
          "output_type": "execute_result",
          "data": {
            "text/plain": [
              "0.8248877485567672"
            ]
          },
          "metadata": {
            "tags": []
          },
          "execution_count": 13
        }
      ]
    },
    {
      "cell_type": "code",
      "metadata": {
        "colab": {
          "base_uri": "https://localhost:8080/"
        },
        "id": "6f9iMwSy8qQY",
        "outputId": "b53670ab-2016-444a-e218-00a3b2f1d315"
      },
      "source": [
        "loyal_customers = 1 - ((previous_campaign['success'] + current_campaign[0] - c)*1.0)/total_count\n",
        "loyal_customers"
      ],
      "execution_count": 14,
      "outputs": [
        {
          "output_type": "execute_result",
          "data": {
            "text/plain": [
              "0.17511225144323284"
            ]
          },
          "metadata": {
            "tags": []
          },
          "execution_count": 14
        }
      ]
    }
  ]
}