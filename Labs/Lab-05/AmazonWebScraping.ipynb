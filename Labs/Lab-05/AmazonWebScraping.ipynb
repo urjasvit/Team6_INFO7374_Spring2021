{
  "nbformat": 4,
  "nbformat_minor": 0,
  "metadata": {
    "colab": {
      "name": "AmazonWebScraping.ipynb",
      "provenance": [],
      "collapsed_sections": []
    },
    "kernelspec": {
      "name": "python3",
      "display_name": "Python 3"
    }
  },
  "cells": [
    {
      "cell_type": "code",
      "metadata": {
        "colab": {
          "base_uri": "https://localhost:8080/"
        },
        "id": "_nR28HKswMbC",
        "outputId": "40b17014-669b-4b56-b575-0df0ea6d6a02"
      },
      "source": [
        "pip install beautifulsoup"
      ],
      "execution_count": null,
      "outputs": [
        {
          "output_type": "stream",
          "text": [
            "Collecting beautifulsoup\n",
            "  Downloading https://files.pythonhosted.org/packages/40/f2/6c9f2f3e696ee6a1fb0e4d7850617e224ed2b0b1e872110abffeca2a09d4/BeautifulSoup-3.2.2.tar.gz\n",
            "\u001b[31mERROR: Command errored out with exit status 1: python setup.py egg_info Check the logs for full command output.\u001b[0m\n"
          ],
          "name": "stdout"
        }
      ]
    },
    {
      "cell_type": "code",
      "metadata": {
        "colab": {
          "base_uri": "https://localhost:8080/"
        },
        "id": "NfP87YZIwX0W",
        "outputId": "ae369e24-38f6-48d2-eb92-23bc06e242c0"
      },
      "source": [
        "pip install requests\r\n"
      ],
      "execution_count": null,
      "outputs": [
        {
          "output_type": "stream",
          "text": [
            "Requirement already satisfied: requests in /usr/local/lib/python3.7/dist-packages (2.23.0)\n",
            "Requirement already satisfied: idna<3,>=2.5 in /usr/local/lib/python3.7/dist-packages (from requests) (2.10)\n",
            "Requirement already satisfied: urllib3!=1.25.0,!=1.25.1,<1.26,>=1.21.1 in /usr/local/lib/python3.7/dist-packages (from requests) (1.24.3)\n",
            "Requirement already satisfied: certifi>=2017.4.17 in /usr/local/lib/python3.7/dist-packages (from requests) (2020.12.5)\n",
            "Requirement already satisfied: chardet<4,>=3.0.2 in /usr/local/lib/python3.7/dist-packages (from requests) (3.0.4)\n"
          ],
          "name": "stdout"
        }
      ]
    },
    {
      "cell_type": "code",
      "metadata": {
        "colab": {
          "base_uri": "https://localhost:8080/"
        },
        "id": "dPoxpTGTwc1Y",
        "outputId": "fa317a30-ced1-483f-b3fe-f9c7aefebfe9"
      },
      "source": [
        "pip install beautifulsoup4\r\n"
      ],
      "execution_count": null,
      "outputs": [
        {
          "output_type": "stream",
          "text": [
            "Requirement already satisfied: beautifulsoup4 in /usr/local/lib/python3.7/dist-packages (4.6.3)\n"
          ],
          "name": "stdout"
        }
      ]
    },
    {
      "cell_type": "code",
      "metadata": {
        "id": "H1Nd0l8iw3ma"
      },
      "source": [
        "from bs4 import BeautifulSoup\r\n",
        "import requests\r\n",
        "import csv\r\n",
        "\r\n",
        "headers = {'User-Agent':'Mozilla/5.0 (Windows NT 10.0; Win64; x64) AppleWebKit/537.36 (KHTML, like Gecko) Chrome/58.0.3029.110 Safari/537.3'}\r\n",
        "\r\n",
        "source = requests.get('https://www.amazon.in/s?k=Laptops&ref=nb_sb_noss_2', headers = headers).text\r\n",
        "soup = BeautifulSoup(source, 'lxml')\r\n",
        "\r\n",
        "# print(soup.prettify())\r\n",
        "\r\n",
        "Names = []\r\n",
        "Prices = []\r\n",
        "\r\n",
        "# for loop\r\n",
        "\r\n",
        "for i in soup.find_all('a', class_='a-link-normal a-text-normal'):\r\n",
        "    string = i.text\r\n",
        "    Names.append( string.strip() )\r\n",
        "\r\n",
        "for i in soup.find_all('span', class_='a-price-whole'):\r\n",
        "    Prices.append(i.text)\r\n",
        "\r\n",
        "file_name = 'Laptops.csv'\r\n",
        "\r\n",
        "with open(file_name, 'w') as file:\r\n",
        "    writer = csv.writer(file)\r\n",
        "    writer.writerow(['Sr.No', 'Laptop Name', 'Prices'])\r\n",
        "\r\n",
        "    for i in range(len(Names)):\r\n",
        "        writer.writerow([i, Names[i], Prices[i]])\r\n",
        "\r\n"
      ],
      "execution_count": null,
      "outputs": []
    }
  ]
}