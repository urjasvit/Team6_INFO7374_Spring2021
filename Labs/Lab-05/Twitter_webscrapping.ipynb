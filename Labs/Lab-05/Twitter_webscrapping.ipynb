{
  "nbformat": 4,
  "nbformat_minor": 0,
  "metadata": {
    "colab": {
      "name": "Twitter_webscrapping.ipynb",
      "provenance": [],
      "collapsed_sections": []
    },
    "kernelspec": {
      "name": "python3",
      "display_name": "Python 3"
    }
  },
  "cells": [
    {
      "cell_type": "code",
      "metadata": {
        "id": "2HuI1BKe5Hxr"
      },
      "source": [
        "import numpy as np"
      ],
      "execution_count": null,
      "outputs": []
    },
    {
      "cell_type": "code",
      "metadata": {
        "id": "WA2qSa5z54aS"
      },
      "source": [
        "import pandas as pd\r\n"
      ],
      "execution_count": null,
      "outputs": []
    },
    {
      "cell_type": "code",
      "metadata": {
        "id": "gsyFZVN757gx"
      },
      "source": [
        "import os\r\n",
        "import pandas as pd\r\n",
        "import matplotlib.pyplot as plt\r\n",
        "import seaborn as sns\r\n",
        "import itertools\r\n",
        "import collections\r\n",
        "\r\n",
        "import tweepy as tw\r\n",
        "import nltk\r\n",
        "from nltk.corpus import stopwords\r\n",
        "import re\r\n",
        "import networkx\r\n",
        "from textblob import TextBlob\r\n",
        "\r\n",
        "import warnings\r\n",
        "warnings.filterwarnings(\"ignore\")\r\n",
        "\r\n",
        "sns.set(font_scale=1.5)\r\n",
        "sns.set_style(\"whitegrid\")"
      ],
      "execution_count": null,
      "outputs": []
    },
    {
      "cell_type": "code",
      "metadata": {
        "id": "e5iBzG0f6CGH"
      },
      "source": [
        "consumer_key= ''\r\n",
        "consumer_secret= ''\r\n",
        "access_token= ''\r\n",
        "access_token_secret= ''"
      ],
      "execution_count": null,
      "outputs": []
    },
    {
      "cell_type": "code",
      "metadata": {
        "id": "R0uq-7Zh7yfD"
      },
      "source": [
        "auth = tw.OAuthHandler(consumer_key, consumer_secret)\r\n",
        "auth.set_access_token(access_token, access_token_secret)\r\n",
        "api = tw.API(auth, wait_on_rate_limit=True)"
      ],
      "execution_count": null,
      "outputs": []
    },
    {
      "cell_type": "code",
      "metadata": {
        "id": "x42xNUDT75Xa"
      },
      "source": [
        "def remove_url(txt):\r\n",
        "    \"\"\"Replace URLs found in a text string with nothing \r\n",
        "    (i.e. it will remove the URL from the string).\r\n",
        "\r\n",
        "    Parameters\r\n",
        "    ----------\r\n",
        "    txt : string\r\n",
        "        A text string that you want to parse and remove urls.\r\n",
        "\r\n",
        "    Returns\r\n",
        "    -------\r\n",
        "    The same txt string with url's removed.\r\n",
        "    \"\"\"\r\n",
        "\r\n",
        "    return \" \".join(re.sub(\"([^0-9A-Za-z \\t])|(\\w+:\\/\\/\\S+)\", \"\", txt).split())"
      ],
      "execution_count": null,
      "outputs": []
    },
    {
      "cell_type": "code",
      "metadata": {
        "id": "bQfQB0UA8E42"
      },
      "source": [
        "#Create a custom search term and define the number of tweets\r\n",
        "search_term = \"#climate+change -filter:retweets\"\r\n",
        "\r\n",
        "tweets = tw.Cursor(api.search,\r\n",
        "                   q=search_term,\r\n",
        "                   lang=\"en\",\r\n",
        "                   since='2018-11-01').items(1000)\r\n",
        "\r\n",
        "# Remove URLs\r\n",
        "tweets_no_urls = [remove_url(tweet.text) for tweet in tweets]"
      ],
      "execution_count": null,
      "outputs": []
    },
    {
      "cell_type": "code",
      "metadata": {
        "colab": {
          "base_uri": "https://localhost:8080/"
        },
        "id": "pgdzJqGx8RjG",
        "outputId": "c2802018-bfd7-4052-d6da-3a6a2731a40b"
      },
      "source": [
        "# Create textblob objects of the tweets\r\n",
        "sentiment_objects = [TextBlob(tweet) for tweet in tweets_no_urls]\r\n",
        "\r\n",
        "sentiment_objects[0].polarity, sentiment_objects[0]"
      ],
      "execution_count": null,
      "outputs": [
        {
          "output_type": "execute_result",
          "data": {
            "text/plain": [
              "(0.0,\n",
              " TextBlob(\"To protect the future from climate change Countries must focus on increasing forest area and initiatives to develo\"))"
            ]
          },
          "metadata": {
            "tags": []
          },
          "execution_count": 23
        }
      ]
    },
    {
      "cell_type": "code",
      "metadata": {
        "colab": {
          "base_uri": "https://localhost:8080/"
        },
        "id": "cMtWX2g2J-f8",
        "outputId": "0fd3cce6-2a73-41fc-e6ba-36c64719044e"
      },
      "source": [
        "# Create list of polarity valuesx and tweet text\r\n",
        "sentiment_values = [[tweet.sentiment.polarity, str(tweet)] for tweet in sentiment_objects]\r\n",
        "\r\n",
        "sentiment_values[0]"
      ],
      "execution_count": null,
      "outputs": [
        {
          "output_type": "execute_result",
          "data": {
            "text/plain": [
              "[0.0,\n",
              " 'To protect the future from climate change Countries must focus on increasing forest area and initiatives to develo']"
            ]
          },
          "metadata": {
            "tags": []
          },
          "execution_count": 24
        }
      ]
    },
    {
      "cell_type": "code",
      "metadata": {
        "colab": {
          "base_uri": "https://localhost:8080/",
          "height": 202
        },
        "id": "1tHxedmjKTm6",
        "outputId": "b3af92a3-2f0d-463f-e5f7-483c1645fb79"
      },
      "source": [
        "# Create dataframe containing the polarity value and tweet text\r\n",
        "sentiment_df = pd.DataFrame(sentiment_values, columns=[\"polarity\", \"tweet\"])\r\n",
        "\r\n",
        "sentiment_df.head()"
      ],
      "execution_count": null,
      "outputs": [
        {
          "output_type": "execute_result",
          "data": {
            "text/html": [
              "<div>\n",
              "<style scoped>\n",
              "    .dataframe tbody tr th:only-of-type {\n",
              "        vertical-align: middle;\n",
              "    }\n",
              "\n",
              "    .dataframe tbody tr th {\n",
              "        vertical-align: top;\n",
              "    }\n",
              "\n",
              "    .dataframe thead th {\n",
              "        text-align: right;\n",
              "    }\n",
              "</style>\n",
              "<table border=\"1\" class=\"dataframe\">\n",
              "  <thead>\n",
              "    <tr style=\"text-align: right;\">\n",
              "      <th></th>\n",
              "      <th>polarity</th>\n",
              "      <th>tweet</th>\n",
              "    </tr>\n",
              "  </thead>\n",
              "  <tbody>\n",
              "    <tr>\n",
              "      <th>0</th>\n",
              "      <td>0.000000</td>\n",
              "      <td>To protect the future from climate change Coun...</td>\n",
              "    </tr>\n",
              "    <tr>\n",
              "      <th>1</th>\n",
              "      <td>0.500000</td>\n",
              "      <td>This makes it a top priority for the climate m...</td>\n",
              "    </tr>\n",
              "    <tr>\n",
              "      <th>2</th>\n",
              "      <td>0.136364</td>\n",
              "      <td>See what environmental issues New York City is...</td>\n",
              "    </tr>\n",
              "    <tr>\n",
              "      <th>3</th>\n",
              "      <td>0.125000</td>\n",
              "      <td>Need some ideas for putting climate change int...</td>\n",
              "    </tr>\n",
              "    <tr>\n",
              "      <th>4</th>\n",
              "      <td>-0.600000</td>\n",
              "      <td>themadsloth CovidiotDid we learn nothing fromT...</td>\n",
              "    </tr>\n",
              "  </tbody>\n",
              "</table>\n",
              "</div>"
            ],
            "text/plain": [
              "   polarity                                              tweet\n",
              "0  0.000000  To protect the future from climate change Coun...\n",
              "1  0.500000  This makes it a top priority for the climate m...\n",
              "2  0.136364  See what environmental issues New York City is...\n",
              "3  0.125000  Need some ideas for putting climate change int...\n",
              "4 -0.600000  themadsloth CovidiotDid we learn nothing fromT..."
            ]
          },
          "metadata": {
            "tags": []
          },
          "execution_count": 25
        }
      ]
    },
    {
      "cell_type": "code",
      "metadata": {
        "colab": {
          "base_uri": "https://localhost:8080/",
          "height": 405
        },
        "id": "WnXziZJAKhHW",
        "outputId": "c8cbd7d1-cefb-47fa-8eca-50891d85bf16"
      },
      "source": [
        "fig, ax = plt.subplots(figsize=(8, 6))\r\n",
        "\r\n",
        "# Plot histogram of the polarity values\r\n",
        "sentiment_df.hist(bins=[-1, -0.75, -0.5, -0.25, 0.25, 0.5, 0.75, 1],\r\n",
        "             ax=ax,\r\n",
        "             color=\"purple\")\r\n",
        "\r\n",
        "plt.title(\"Sentiments from Tweets on Climate Change\")\r\n",
        "plt.show()"
      ],
      "execution_count": null,
      "outputs": [
        {
          "output_type": "display_data",
          "data": {
            "image/png": "[encoded data removed]",
            "text/plain": [
              "<Figure size 576x432 with 1 Axes>"
            ]
          },
          "metadata": {
            "tags": []
          }
        }
      ]
    },
    {
      "cell_type": "code",
      "metadata": {
        "id": "U49a_2gjKvrm"
      },
      "source": [
        "# Remove polarity values equal to zero\r\n",
        "sentiment_df = sentiment_df[sentiment_df.polarity != 0]"
      ],
      "execution_count": null,
      "outputs": []
    },
    {
      "cell_type": "code",
      "metadata": {
        "colab": {
          "base_uri": "https://localhost:8080/",
          "height": 405
        },
        "id": "oneRvfceKy76",
        "outputId": "7d286f45-9d5a-4d15-ec9c-42974626c548"
      },
      "source": [
        "fig, ax = plt.subplots(figsize=(8, 6))\r\n",
        "\r\n",
        "# Plot histogram with break at zero\r\n",
        "sentiment_df.hist(bins=[-1, -0.75, -0.5, -0.25, 0.0, 0.25, 0.5, 0.75, 1],\r\n",
        "             ax=ax,\r\n",
        "             color=\"purple\")\r\n",
        "\r\n",
        "plt.title(\"Sentiments from Tweets on Climate Change\")\r\n",
        "plt.show()"
      ],
      "execution_count": null,
      "outputs": [
        {
          "output_type": "display_data",
          "data": {
            "image/png": "[encoded data removed]",
            "text/plain": [
              "<Figure size 576x432 with 1 Axes>"
            ]
          },
          "metadata": {
            "tags": []
          }
        }
      ]
    },
    {
      "cell_type": "code",
      "metadata": {
        "colab": {
          "base_uri": "https://localhost:8080/"
        },
        "id": "aagImSC7K0uQ",
        "outputId": "79499f34-a4f9-4022-c42c-a6e01cc2ff18"
      },
      "source": [
        "search_term = \"#CampFire -filter:retweets\"\r\n",
        "\r\n",
        "tweets = tw.Cursor(api.search,\r\n",
        "                   q=search_term,\r\n",
        "                   lang=\"en\",\r\n",
        "                   since='2018-09-23').items(1000)\r\n",
        "\r\n",
        "# Remove URLs and create textblob object for each tweet\r\n",
        "all_tweets_no_urls = [TextBlob(remove_url(tweet.text)) for tweet in tweets]\r\n",
        "\r\n",
        "all_tweets_no_urls[:5]"
      ],
      "execution_count": null,
      "outputs": [
        {
          "output_type": "execute_result",
          "data": {
            "text/plain": [
              "[TextBlob(\"Whos fired up for the weekend tgif firepit campfire pyromaniac flamethrower torch ritisbbq Bergen Coun\"),\n",
              " TextBlob(\"Pistachio Crusted Campfire Lamb Chops campfire\"),\n",
              " TextBlob(\"Nursery pm and Reception had so much fun in forest school this afternoonnurserypm reception forestschool\"),\n",
              " TextBlob(\"Video review coming soon solostove solostoveranger camping fire campfire stove portable convenient\"),\n",
              " TextBlob(\"OOT N ABOOT Dont you dare drain all the bean Tess threatened coffee bogarting hubby\")]"
            ]
          },
          "metadata": {
            "tags": []
          },
          "execution_count": 29
        }
      ]
    },
    {
      "cell_type": "code",
      "metadata": {
        "colab": {
          "base_uri": "https://localhost:8080/",
          "height": 202
        },
        "id": "L_UNi5cqK25m",
        "outputId": "e9de7775-4dd0-40a7-c130-3ecf701df6f4"
      },
      "source": [
        "# Calculate polarity of tweets\r\n",
        "wild_sent_values = [[tweet.sentiment.polarity, str(tweet)] for tweet in all_tweets_no_urls]\r\n",
        "\r\n",
        "# Create dataframe containing polarity values and tweet text\r\n",
        "wild_sent_df = pd.DataFrame(wild_sent_values, columns=[\"polarity\", \"tweet\"])\r\n",
        "wild_sent_df = wild_sent_df[wild_sent_df.polarity != 0]\r\n",
        "\r\n",
        "wild_sent_df.head()"
      ],
      "execution_count": null,
      "outputs": [
        {
          "output_type": "execute_result",
          "data": {
            "text/html": [
              "<div>\n",
              "<style scoped>\n",
              "    .dataframe tbody tr th:only-of-type {\n",
              "        vertical-align: middle;\n",
              "    }\n",
              "\n",
              "    .dataframe tbody tr th {\n",
              "        vertical-align: top;\n",
              "    }\n",
              "\n",
              "    .dataframe thead th {\n",
              "        text-align: right;\n",
              "    }\n",
              "</style>\n",
              "<table border=\"1\" class=\"dataframe\">\n",
              "  <thead>\n",
              "    <tr style=\"text-align: right;\">\n",
              "      <th></th>\n",
              "      <th>polarity</th>\n",
              "      <th>tweet</th>\n",
              "    </tr>\n",
              "  </thead>\n",
              "  <tbody>\n",
              "    <tr>\n",
              "      <th>2</th>\n",
              "      <td>0.300000</td>\n",
              "      <td>Nursery pm and Reception had so much fun in fo...</td>\n",
              "    </tr>\n",
              "    <tr>\n",
              "      <th>5</th>\n",
              "      <td>0.200000</td>\n",
              "      <td>Getting ready for some Preproduction up at our...</td>\n",
              "    </tr>\n",
              "    <tr>\n",
              "      <th>6</th>\n",
              "      <td>-0.250000</td>\n",
              "      <td>Finished For now at least Going to sit with it...</td>\n",
              "    </tr>\n",
              "    <tr>\n",
              "      <th>9</th>\n",
              "      <td>-0.083333</td>\n",
              "      <td>Longterm impacts of disasters on water systems...</td>\n",
              "    </tr>\n",
              "    <tr>\n",
              "      <th>12</th>\n",
              "      <td>0.600000</td>\n",
              "      <td>Florida nights camp fire music and a nice rum ...</td>\n",
              "    </tr>\n",
              "  </tbody>\n",
              "</table>\n",
              "</div>"
            ],
            "text/plain": [
              "    polarity                                              tweet\n",
              "2   0.300000  Nursery pm and Reception had so much fun in fo...\n",
              "5   0.200000  Getting ready for some Preproduction up at our...\n",
              "6  -0.250000  Finished For now at least Going to sit with it...\n",
              "9  -0.083333  Longterm impacts of disasters on water systems...\n",
              "12  0.600000  Florida nights camp fire music and a nice rum ..."
            ]
          },
          "metadata": {
            "tags": []
          },
          "execution_count": 30
        }
      ]
    },
    {
      "cell_type": "code",
      "metadata": {
        "colab": {
          "base_uri": "https://localhost:8080/",
          "height": 405
        },
        "id": "R6VqDEZ6K6mL",
        "outputId": "370840b2-b24d-4483-cc03-046108ead083"
      },
      "source": [
        "fig, ax = plt.subplots(figsize=(8, 6))\r\n",
        "\r\n",
        "wild_sent_df.hist(bins=[-1, -0.75, -0.5, -0.25, 0, 0.25, 0.5, 0.75, 1],\r\n",
        "        ax=ax, color=\"purple\")\r\n",
        "\r\n",
        "plt.title(\"Sentiments from Tweets on the Camp Fire\")\r\n",
        "plt.show()"
      ],
      "execution_count": null,
      "outputs": [
        {
          "output_type": "display_data",
          "data": {
            "image/png": "[encoded data removed]",
            "text/plain": [
              "<Figure size 576x432 with 1 Axes>"
            ]
          },
          "metadata": {
            "tags": []
          }
        }
      ]
    },
    {
      "cell_type": "code",
      "metadata": {
        "id": "BFx60whYK9Uk"
      },
      "source": [
        ""
      ],
      "execution_count": null,
      "outputs": []
    }
  ]
}