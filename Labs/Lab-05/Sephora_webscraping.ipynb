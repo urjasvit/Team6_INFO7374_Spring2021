{
 "cells": [
  {
   "cell_type": "markdown",
   "metadata": {},
   "source": [
    "## LAB6 : Sephora Data Scraping "
   ]
  },
  {
   "cell_type": "markdown",
   "metadata": {},
   "source": [
    "### The aim of this lab is to understand the concept and importance of webscraping by performing some aspect of it on Sephora website"
   ]
  },
  {
   "cell_type": "markdown",
   "metadata": {},
   "source": [
    "#### Over here, we plan to target the skin care categories of sephora and our code uses webscraping to collect the URL related to every skin care product there is."
   ]
  },
  {
   "cell_type": "markdown",
   "metadata": {},
   "source": [
    "#### Installing BeautifulSoup:"
   ]
  },
  {
   "cell_type": "code",
   "execution_count": 104,
   "metadata": {
    "scrolled": true
   },
   "outputs": [
    {
     "name": "stdout",
     "output_type": "stream",
     "text": [
      "Requirement already satisfied: BeautifulSoup4 in c:\\programdata\\anaconda3\\lib\\site-packages (4.9.3)\n",
      "Requirement already satisfied: soupsieve>1.2; python_version >= \"3.0\" in c:\\programdata\\anaconda3\\lib\\site-packages (from BeautifulSoup4) (2.0.1)\n",
      "Note: you may need to restart the kernel to use updated packages.\n"
     ]
    }
   ],
   "source": [
    "pip install BeautifulSoup4"
   ]
  },
  {
   "cell_type": "markdown",
   "metadata": {},
   "source": [
    "#### Importing:"
   ]
  },
  {
   "cell_type": "code",
   "execution_count": 105,
   "metadata": {},
   "outputs": [],
   "source": [
    "import pandas as pd\n",
    "import numpy as np\n",
    "import requests\n",
    "from bs4 import BeautifulSoup\n",
    "import time\n",
    "from selenium import webdriver\n",
    "from selenium.webdriver.common.keys import Keys"
   ]
  },
  {
   "cell_type": "code",
   "execution_count": 106,
   "metadata": {},
   "outputs": [],
   "source": [
    "#A function that gets the browser to scroll down:\n",
    "#ref:  https://www.hackerearth.com/fr/practice/notes/praveen97uma/crawling-a-website-that-loads-content-using-javascript-with-selenium-webdriver-in-python/\n",
    "\n",
    "def scrollDown(driver, n_scroll):\n",
    "    body = driver.find_element_by_tag_name(\"body\")\n",
    "    while n_scroll >= 0:\n",
    "        body.send_keys(Keys.PAGE_DOWN)\n",
    "        n_scroll -= 1\n",
    "    return driver"
   ]
  },
  {
   "cell_type": "code",
   "execution_count": 107,
   "metadata": {},
   "outputs": [],
   "source": [
    "\n",
    "chrome_path = \"C:/Users/aishwarya/Downloads/chromedriver_win32/chromedriver\"\n",
    "driver = webdriver.Chrome(executable_path = chrome_path)\n",
    "\n",
    "\n",
    "#webscrapig with respect to the different skin care categories that Sephora has:\n",
    "categories = ['moisturizing-cream-oils-mists']            #Only one category is used for now, so that there is no excessive delay                                                                                                    \n",
    "             #'cleanser'                                  #in the speed of the execution\n",
    "             #'facial-treatments',\n",
    "             #'eye-treatment-dark-circle-treatment',\n",
    "             #'facial-treatment-masks',\n",
    "            # 'sunscreen-sun-protection',\n",
    "             #'lip-treatments']\n",
    "                \n",
    "#creating an empty data frame that all the URLs and categories will go in to\n",
    "final_df = pd.DataFrame(columns = ['category', 'URL'])\n",
    "\n",
    "\n",
    "for category in categories: #looping through the different categories\n",
    "\n",
    "    page_num = 1 #the first page\n",
    "    \n",
    "    while page_num<5: # I have considered to keep page_num <5 to expedite the execution\n",
    "        url = 'https://www.sephora.com/shop/'+ category + '?pageSize=300&currentPage=' + str(page_num)\n",
    "        driver.get(url)\n",
    "        time.sleep(5)\n",
    "        try:   \n",
    "            if driver.find_element_by_class_name('css-3a7b4s').is_displayed():\n",
    "                break\n",
    "            \n",
    "        except:\n",
    "    \n",
    "         \n",
    "            try:\n",
    "            \n",
    "                xpath = '//*[@id=\"modalDialog\"]/button'\n",
    "                btn = driver.find_element_by_xpath(xpath)\n",
    "                btn.click()\n",
    "                time.sleep(20)\n",
    "            except:\n",
    "                pass\n",
    "    \n",
    "           \n",
    "            old_len = 0\n",
    "            while True:\n",
    "                browser = scrollDown(driver, 20) #scroll down the page\n",
    "                time.sleep(10) #give it time to load\n",
    "                slug = driver.find_elements_by_class_name('css-ix8km1') #look for the urls of products\n",
    "                new_len = len(slug)\n",
    "                if old_len == new_len: #if the old length and new length are equal, the bottom of page was reached\n",
    "                    break\n",
    "                else:\n",
    "                    old_len = new_len\n",
    "\n",
    "            #from the list of URLs in slug pull all the href and make a dictionary with it and the category name        \n",
    "            slugURL = []\n",
    "            for a in slug:\n",
    "                subURL = {}\n",
    "                subURL['category'] = category \n",
    "                subURL['URL'] = a.get_attribute('href')\n",
    "                slugURL.append(subURL)\n",
    "    \n",
    "            #append our data frame with categories and URLs\n",
    "            df = pd.DataFrame(slugURL)\n",
    "            #print(df.head())\n",
    "            #adding to go to next page\n",
    "            page_num += 1\n",
    "            #concatenating to get all in same df\n",
    "            final_df = pd.concat([final_df, df], axis = 0, ignore_index = True) \n",
    "    \n",
    "#close the chrome\n",
    "driver.close()\n",
    "            "
   ]
  },
  {
   "cell_type": "code",
   "execution_count": 108,
   "metadata": {},
   "outputs": [
    {
     "data": {
      "text/html": [
       "<div>\n",
       "<style scoped>\n",
       "    .dataframe tbody tr th:only-of-type {\n",
       "        vertical-align: middle;\n",
       "    }\n",
       "\n",
       "    .dataframe tbody tr th {\n",
       "        vertical-align: top;\n",
       "    }\n",
       "\n",
       "    .dataframe thead th {\n",
       "        text-align: right;\n",
       "    }\n",
       "</style>\n",
       "<table border=\"1\" class=\"dataframe\">\n",
       "  <thead>\n",
       "    <tr style=\"text-align: right;\">\n",
       "      <th></th>\n",
       "      <th>category</th>\n",
       "      <th>URL</th>\n",
       "    </tr>\n",
       "  </thead>\n",
       "  <tbody>\n",
       "    <tr>\n",
       "      <th>0</th>\n",
       "      <td>moisturizing-cream-oils-mists</td>\n",
       "      <td>https://www.sephora.com/product/protini-tm-pol...</td>\n",
       "    </tr>\n",
       "    <tr>\n",
       "      <th>1</th>\n",
       "      <td>moisturizing-cream-oils-mists</td>\n",
       "      <td>https://www.sephora.com/product/glow-recipe-wa...</td>\n",
       "    </tr>\n",
       "    <tr>\n",
       "      <th>2</th>\n",
       "      <td>moisturizing-cream-oils-mists</td>\n",
       "      <td>https://www.sephora.com/product/cicapair-tiger...</td>\n",
       "    </tr>\n",
       "    <tr>\n",
       "      <th>3</th>\n",
       "      <td>moisturizing-cream-oils-mists</td>\n",
       "      <td>https://www.sephora.com/product/the-dewy-skin-...</td>\n",
       "    </tr>\n",
       "    <tr>\n",
       "      <th>4</th>\n",
       "      <td>moisturizing-cream-oils-mists</td>\n",
       "      <td>https://www.sephora.com/product/barrier-lipid-...</td>\n",
       "    </tr>\n",
       "    <tr>\n",
       "      <th>...</th>\n",
       "      <td>...</td>\n",
       "      <td>...</td>\n",
       "    </tr>\n",
       "    <tr>\n",
       "      <th>472</th>\n",
       "      <td>moisturizing-cream-oils-mists</td>\n",
       "      <td>https://www.sephora.com/product/resilience-lif...</td>\n",
       "    </tr>\n",
       "    <tr>\n",
       "      <th>473</th>\n",
       "      <td>moisturizing-cream-oils-mists</td>\n",
       "      <td>https://www.sephora.com/product/blue-herbal-mo...</td>\n",
       "    </tr>\n",
       "    <tr>\n",
       "      <th>474</th>\n",
       "      <td>moisturizing-cream-oils-mists</td>\n",
       "      <td>https://www.sephora.com/product/sleep-face-bod...</td>\n",
       "    </tr>\n",
       "    <tr>\n",
       "      <th>475</th>\n",
       "      <td>moisturizing-cream-oils-mists</td>\n",
       "      <td>https://www.sephora.com/product/boosted-contou...</td>\n",
       "    </tr>\n",
       "    <tr>\n",
       "      <th>476</th>\n",
       "      <td>moisturizing-cream-oils-mists</td>\n",
       "      <td>https://www.sephora.com/product/la-mer-the-nou...</td>\n",
       "    </tr>\n",
       "  </tbody>\n",
       "</table>\n",
       "<p>477 rows × 2 columns</p>\n",
       "</div>"
      ],
      "text/plain": [
       "                          category  \\\n",
       "0    moisturizing-cream-oils-mists   \n",
       "1    moisturizing-cream-oils-mists   \n",
       "2    moisturizing-cream-oils-mists   \n",
       "3    moisturizing-cream-oils-mists   \n",
       "4    moisturizing-cream-oils-mists   \n",
       "..                             ...   \n",
       "472  moisturizing-cream-oils-mists   \n",
       "473  moisturizing-cream-oils-mists   \n",
       "474  moisturizing-cream-oils-mists   \n",
       "475  moisturizing-cream-oils-mists   \n",
       "476  moisturizing-cream-oils-mists   \n",
       "\n",
       "                                                   URL  \n",
       "0    https://www.sephora.com/product/protini-tm-pol...  \n",
       "1    https://www.sephora.com/product/glow-recipe-wa...  \n",
       "2    https://www.sephora.com/product/cicapair-tiger...  \n",
       "3    https://www.sephora.com/product/the-dewy-skin-...  \n",
       "4    https://www.sephora.com/product/barrier-lipid-...  \n",
       "..                                                 ...  \n",
       "472  https://www.sephora.com/product/resilience-lif...  \n",
       "473  https://www.sephora.com/product/blue-herbal-mo...  \n",
       "474  https://www.sephora.com/product/sleep-face-bod...  \n",
       "475  https://www.sephora.com/product/boosted-contou...  \n",
       "476  https://www.sephora.com/product/la-mer-the-nou...  \n",
       "\n",
       "[477 rows x 2 columns]"
      ]
     },
     "execution_count": 108,
     "metadata": {},
     "output_type": "execute_result"
    }
   ],
   "source": [
    "#checking the structure of my final dataframe\n",
    "final_df"
   ]
  },
  {
   "cell_type": "code",
   "execution_count": 93,
   "metadata": {},
   "outputs": [],
   "source": [
    "\n",
    "#saving the final dataframe to a csv folder\n",
    "final_df.to_csv('product_urls.csv', index = False)"
   ]
  },
  {
   "cell_type": "markdown",
   "metadata": {},
   "source": [
    "#### These URLs can now be used to gather important data aboout each skin-care product."
   ]
  },
  {
   "cell_type": "markdown",
   "metadata": {},
   "source": [
    "# Data Preprocesing:"
   ]
  },
  {
   "cell_type": "code",
   "execution_count": null,
   "metadata": {},
   "outputs": [],
   "source": [
    "import pandas as pd\n",
    "import numpy as np\n",
    "import re\n",
    "import matplotlib.pyplot as plt\n"
   ]
  },
  {
   "cell_type": "code",
   "execution_count": 95,
   "metadata": {},
   "outputs": [],
   "source": [
    "# step 1. cleaning data\n",
    "cosm = pd.read_csv('product_urls.csv')\n"
   ]
  },
  {
   "cell_type": "code",
   "execution_count": null,
   "metadata": {},
   "outputs": [],
   "source": [
    "#making the category names more understandable:\n",
    "cosm.Category[cosm['Category'] == 'moisturizing-cream-oils-mists'] = str('Moisturizer')\n",
    "cosm.Category[cosm['Category'] == 'cleanser'] = str('Cleanser')\n",
    "cosm.Category[cosm['Category'] == 'facial-treatments'] = str('Treatment')\n",
    "cosm.Category[cosm['Category']== 'face-mask'] = str('Face Mask')\n",
    "cosm.Category[cosm['Category'] == 'eye-treatment-dark-circle-treatment'] = str('Eye cream')\n",
    "cosm.Category[cosm['Category']== 'sunscreen-sun-protection'] = str('Sun protect')"
   ]
  },
  {
   "cell_type": "markdown",
   "metadata": {},
   "source": [
    "#### Data preprocessing can contain many other ways like checking for null values, removing duplictae values, tokenize an ingredient list etc."
   ]
  },
  {
   "cell_type": "markdown",
   "metadata": {},
   "source": [
    "#### Data preprocessing is done so that the data is ready for what lies ahead of it"
   ]
  }
 ],
 "metadata": {
  "kernelspec": {
   "display_name": "Python 3",
   "language": "python",
   "name": "python3"
  },
  "language_info": {
   "codemirror_mode": {
    "name": "ipython",
    "version": 3
   },
   "file_extension": ".py",
   "mimetype": "text/x-python",
   "name": "python",
   "nbconvert_exporter": "python",
   "pygments_lexer": "ipython3",
   "version": "3.8.5"
  }
 },
 "nbformat": 4,
 "nbformat_minor": 4
}
