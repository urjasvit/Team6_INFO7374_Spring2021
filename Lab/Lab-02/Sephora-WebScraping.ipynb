{
 "cells": [
  {
   "cell_type": "code",
   "execution_count": 1,
   "metadata": {},
   "outputs": [],
   "source": [
    "import pandas as pd\n",
    "import numpy as np\n",
    "import requests\n",
    "from bs4 import BeautifulSoup\n",
    "import time\n",
    "from selenium import webdriver\n",
    "from selenium.webdriver.common.keys import Keys"
   ]
  },
  {
   "cell_type": "code",
   "execution_count": 2,
   "metadata": {},
   "outputs": [],
   "source": [
    "#credit for this code: https://www.hackerearth.com/fr/practice/notes/praveen97uma/crawling-a-website-that-loads-content-using-javascript-with-selenium-webdriver-in-python/\n",
    "#this code creates a function that gets the browser to scroll down\n",
    "def scrollDown(driver, n_scroll):\n",
    "    body = driver.find_element_by_tag_name(\"body\")\n",
    "    while n_scroll >= 0:\n",
    "        body.send_keys(Keys.PAGE_DOWN)\n",
    "        n_scroll -= 1\n",
    "    return driver"
   ]
  },
  {
   "cell_type": "code",
   "execution_count": null,
   "metadata": {},
   "outputs": [
    {
     "name": "stderr",
     "output_type": "stream",
     "text": [
      "C:\\Users\\Urjasvit\\Anaconda3\\lib\\site-packages\\ipykernel_launcher.py:65: FutureWarning: Sorting because non-concatenation axis is not aligned. A future version\n",
      "of pandas will change to not sort by default.\n",
      "\n",
      "To accept the future behavior, pass 'sort=False'.\n",
      "\n",
      "To retain the current behavior and silence the warning, pass 'sort=True'.\n",
      "\n"
     ]
    }
   ],
   "source": [
    "chrome_path = \"D:/NEU/ADM/chromedriver\"\n",
    "driver = webdriver.Chrome(executable_path = chrome_path)\n",
    "\n",
    "\n",
    "#this list represents different skin care categories to collect\n",
    "categories = ['moisturizing-cream-oils-mists',\n",
    "             'cleanser']\n",
    "#creating an empty data frame that all the URLs and categories will go in to\n",
    "final_df = pd.DataFrame(columns = ['category', 'URL'])\n",
    "\n",
    "\n",
    "for category in categories: #looping through the different categories\n",
    "\n",
    "    page_num = 1 #the first page\n",
    "\n",
    "    while True:\n",
    "    \n",
    "        #when running the following .get request in order for everything to work properly\n",
    "        #the window needs to be popped open on the screen\n",
    "        url = 'https://www.sephora.com/shop/'+ category + '?pageSize=300&currentPage=' + str(page_num)\n",
    "        driver.get(url)\n",
    "        time.sleep(20)\n",
    "        try: #check to see if the page is empty   \n",
    "            if driver.find_element_by_class_name('css-3a7b4s').is_displayed():\n",
    "                break\n",
    "            \n",
    "        except:\n",
    "    \n",
    "            #check to see if there is a pop up windew\n",
    "            try:\n",
    "                #exit the pop up window\n",
    "                xpath = '//*[@id=\"modalDialog\"]/button'\n",
    "                btn = driver.find_element_by_xpath(xpath)\n",
    "                btn.click()\n",
    "                time.sleep(20)\n",
    "            except:\n",
    "                pass\n",
    "    \n",
    "            #as scrolling check if there is any more room to scroll\n",
    "            old_len = 0\n",
    "            while True:\n",
    "                browser = scrollDown(driver, 20) #scroll down the page\n",
    "                time.sleep(10) #give it time to load\n",
    "                slug = driver.find_elements_by_class_name('css-ix8km1') #look for the urls of products\n",
    "                new_len = len(slug)\n",
    "                if old_len == new_len: #if the old length and new length are equal, the bottom of page was reached\n",
    "                    break\n",
    "                else:\n",
    "                    old_len = new_len\n",
    "\n",
    "            #from the list of URLs in slug pull all the href and make a dictionary with it and the category name        \n",
    "            slugURL = []\n",
    "            for a in slug:\n",
    "                subURL = {}\n",
    "                subURL['category'] = category \n",
    "                subURL['URL'] = a.get_attribute('href')\n",
    "                slugURL.append(subURL)\n",
    "    \n",
    "            #append our data frame with categories and URLs\n",
    "            df = pd.DataFrame(slugURL)\n",
    "            #print(df.head())\n",
    "            #adding to go to next page\n",
    "            page_num += 1\n",
    "            #concatenating to get all in same df\n",
    "            final_df = pd.concat([final_df, df], axis = 0, ignore_index = True) \n",
    "    \n",
    "#close the chrome\n",
    "driver.close()"
   ]
  },
  {
   "cell_type": "code",
   "execution_count": null,
   "metadata": {},
   "outputs": [],
   "source": [
    "#checking the structure of my final dataframe\n",
    "final_df"
   ]
  },
  {
   "cell_type": "code",
   "execution_count": null,
   "metadata": {},
   "outputs": [],
   "source": [
    "#saving the final dataframe of URLs in to a csv folder\n",
    "final_df.to_csv('./data/product_urls2.csv', index = False)"
   ]
  },
  {
   "cell_type": "code",
   "execution_count": null,
   "metadata": {},
   "outputs": [],
   "source": []
  }
 ],
 "metadata": {
  "kernelspec": {
   "display_name": "Python 3",
   "language": "python",
   "name": "python3"
  },
  "language_info": {
   "codemirror_mode": {
    "name": "ipython",
    "version": 3
   },
   "file_extension": ".py",
   "mimetype": "text/x-python",
   "name": "python",
   "nbconvert_exporter": "python",
   "pygments_lexer": "ipython3",
   "version": "3.7.3"
  }
 },
 "nbformat": 4,
 "nbformat_minor": 2
}
